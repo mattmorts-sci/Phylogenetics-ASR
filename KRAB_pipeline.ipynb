{
 "cells": [
  {
   "cell_type": "markdown",
   "metadata": {},
   "source": [
    "Written by **Matt Mortimer** <br />\n",
    "Contributions by Matt Spence (see specific scripts)<br />\n",
    "started 26 Oct 2021<br />\n",
    "matthew.mortimer@anu.edu.au<br />\n",
    "Orcid ID: https://orcid.org/0000-0002-8135-9319<br />\n",
    "Python 3<br />\n"
   ]
  },
  {
   "cell_type": "markdown",
   "metadata": {},
   "source": [
    "# Overview - KRAB Domain project\n",
    "**Background:** <br />\n",
    "Engineering KRAB domain <br />\n",
    "**Aim:** <br />\n",
    " component of the project aims to generate a KRAB Domain phlyogeny and reconstruct the ancestors <br /> \n",
    "**Data sources:**  <br />\n",
    "PFAM (PF01532)"
   ]
  },
  {
   "cell_type": "markdown",
   "metadata": {},
   "source": [
    "**Dependencies:**<br />\n",
    "1.    Biopython\n",
    "2.    BioServices\n",
    "3.    Pandas\n",
    "4.    Seaborn"
   ]
  },
  {
   "cell_type": "markdown",
   "metadata": {},
   "source": [
    "**Custom module versions**<br />\n",
    "1. analysis v2.1.0\n",
    "2. annotations v1.3.1\n",
    "3. cleaner v1.3.2\n",
    "4. log v1.2.0\n",
    "5. progress v1.0.1 \n",
    "6. run_blast v1.1.1\n",
    "7. size_filter v1.0.3\n",
    "8. uniprot v1.0.2\n",
    "9. utilities v1.0.0"
   ]
  },
  {
   "cell_type": "code",
   "execution_count": 1,
   "metadata": {},
   "outputs": [],
   "source": [
    "import pandas as pd\n",
    "\n",
    "# Custom scripts\n",
    "from modules.annotations import *\n",
    "from modules.cleaner import *\n",
    "from modules.analysis import len_distro\n",
    "from modules.run_blast import blast\n",
    "from modules.size_filter import *\n",
    "from modules.uniprot import uniprot\n",
    "from modules.utilities import *"
   ]
  },
  {
   "cell_type": "markdown",
   "metadata": {},
   "source": [
    "# Processing PFAM, unalined, sequence list\n",
    "\n",
    "Downloaded the sequences as a single, unaligned, fasta file from the PFAM website with 30,630 sequences of ~42 residues in length, saved in project file as 'PF01352_full.txt'\n",
    "Using BioServices to download from uniprot provides full length sequences, complicating alignment. \n",
    "In working directory I created two folders 'input' and 'output'. Placed sequence list into 'input'. \n",
    "Save and run this notebook from the working directory with the following custom functions:\n",
    "annotations\n",
    "indexing\n",
    "len_distro\n",
    "log\n",
    "run_blast\n",
    "sequence_cleaner\n",
    "size filter"
   ]
  },
  {
   "cell_type": "code",
   "execution_count": 2,
   "metadata": {},
   "outputs": [
    {
     "name": "stdout",
     "output_type": "stream",
     "text": [
      "C:\\Users\\mattm\\Desktop\\Nourish_projects\\Phylogenetics-ASR\n"
     ]
    }
   ],
   "source": [
    "# Set constant variables for this notebook\n",
    "\n",
    "date = datetime.now().strftime('%y%m%d')\n",
    "PROJECT = 'KRAB'\n",
    "\n",
    "# Check working dir\n",
    "import pathlib\n",
    "print(pathlib.Path().resolve())"
   ]
  },
  {
   "cell_type": "markdown",
   "metadata": {},
   "source": [
    "# Sequence assessment and cleaning"
   ]
  },
  {
   "cell_type": "code",
   "execution_count": 3,
   "metadata": {},
   "outputs": [
    {
     "data": {
      "image/png": "[encoded data removed]",
      "image/svg+xml": "<?xml version=\"1.0\" encoding=\"utf-8\" standalone=\"no\"?>\n<!DOCTYPE svg PUBLIC \"-//W3C//DTD SVG 1.1//EN\"\n  \"http://www.w3.org/Graphics/SVG/1.1/DTD/svg11.dtd\">\n<!-- Created with matplotlib (https://matplotlib.org/) -->\n<svg height=\"348.073437pt\" version=\"1.1\" viewBox=\"0 0 347.0875 348.073437\" width=\"347.0875pt\" xmlns=\"http://www.w3.org/2000/svg\" xmlns:xlink=\"http://www.w3.org/1999/xlink\">\n <defs>\n  <style type=\"text/css\">\n*{stroke-linecap:butt;stroke-linejoin:round;}\n  </style>\n </defs>\n <g id=\"figure_1\">\n  <g id=\"patch_1\">\n   <path d=\"M 0 348.073437 \nL 347.0875 348.073437 \nL 347.0875 0 \nL 0 0 \nz\n\" style=\"fill:#ffffff;\"/>\n  </g>\n  <g id=\"axes_1\">\n   <g id=\"patch_2\">\n    <path d=\"M 67.3075 304.78 \nL 339.8875 304.78 \nL 339.8875 7.2 \nL 67.3075 7.2 \nz\n\" style=\"fill:#eaeaf2;\"/>\n   </g>\n   <g id=\"matplotlib.axis_1\">\n    <g id=\"xtick_1\">\n     <g id=\"line2d_1\">\n      <path clip-path=\"url(#pf566d612e8)\" d=\"M 79.6975 304.78 \nL 79.6975 7.2 \n\" style=\"fill:none;stroke:#ffffff;stroke-linecap:round;\"/>\n     </g>\n     <g id=\"text_1\">\n      <!-- 15 -->\n      <defs>\n       <path d=\"M 12.40625 8.296875 \nL 28.515625 8.296875 \nL 28.515625 63.921875 \nL 10.984375 60.40625 \nL 10.984375 69.390625 \nL 28.421875 72.90625 \nL 38.28125 72.90625 \nL 38.28125 8.296875 \nL 54.390625 8.296875 \nL 54.390625 0 \nL 12.40625 0 \nz\n\" id=\"DejaVuSans-49\"/>\n       <path d=\"M 10.796875 72.90625 \nL 49.515625 72.90625 \nL 49.515625 64.59375 \nL 19.828125 64.59375 \nL 19.828125 46.734375 \nQ 21.96875 47.46875 24.109375 47.828125 \nQ 26.265625 48.1875 28.421875 48.1875 \nQ 40.625 48.1875 47.75 41.5 \nQ 54.890625 34.8125 54.890625 23.390625 \nQ 54.890625 11.625 47.5625 5.09375 \nQ 40.234375 -1.421875 26.90625 -1.421875 \nQ 22.3125 -1.421875 17.546875 -0.640625 \nQ 12.796875 0.140625 7.71875 1.703125 \nL 7.71875 11.625 \nQ 12.109375 9.234375 16.796875 8.0625 \nQ 21.484375 6.890625 26.703125 6.890625 \nQ 35.15625 6.890625 40.078125 11.328125 \nQ 45.015625 15.765625 45.015625 23.390625 \nQ 45.015625 31 40.078125 35.4375 \nQ 35.15625 39.890625 26.703125 39.890625 \nQ 22.75 39.890625 18.8125 39.015625 \nQ 14.890625 38.140625 10.796875 36.28125 \nz\n\" id=\"DejaVuSans-53\"/>\n      </defs>\n      <g style=\"fill:#262626;\" transform=\"translate(72.69875 322.638281)scale(0.11 -0.11)\">\n       <use xlink:href=\"#DejaVuSans-49\"/>\n       <use x=\"63.623047\" xlink:href=\"#DejaVuSans-53\"/>\n      </g>\n     </g>\n    </g>\n    <g id=\"xtick_2\">\n     <g id=\"line2d_2\">\n      <path clip-path=\"url(#pf566d612e8)\" d=\"M 118.41625 304.78 \nL 118.41625 7.2 \n\" style=\"fill:none;stroke:#ffffff;stroke-linecap:round;\"/>\n     </g>\n     <g id=\"text_2\">\n      <!-- 20 -->\n      <defs>\n       <path d=\"M 19.1875 8.296875 \nL 53.609375 8.296875 \nL 53.609375 0 \nL 7.328125 0 \nL 7.328125 8.296875 \nQ 12.9375 14.109375 22.625 23.890625 \nQ 32.328125 33.6875 34.8125 36.53125 \nQ 39.546875 41.84375 41.421875 45.53125 \nQ 43.3125 49.21875 43.3125 52.78125 \nQ 43.3125 58.59375 39.234375 62.25 \nQ 35.15625 65.921875 28.609375 65.921875 \nQ 23.96875 65.921875 18.8125 64.3125 \nQ 13.671875 62.703125 7.8125 59.421875 \nL 7.8125 69.390625 \nQ 13.765625 71.78125 18.9375 73 \nQ 24.125 74.21875 28.421875 74.21875 \nQ 39.75 74.21875 46.484375 68.546875 \nQ 53.21875 62.890625 53.21875 53.421875 \nQ 53.21875 48.921875 51.53125 44.890625 \nQ 49.859375 40.875 45.40625 35.40625 \nQ 44.1875 33.984375 37.640625 27.21875 \nQ 31.109375 20.453125 19.1875 8.296875 \nz\n\" id=\"DejaVuSans-50\"/>\n       <path d=\"M 31.78125 66.40625 \nQ 24.171875 66.40625 20.328125 58.90625 \nQ 16.5 51.421875 16.5 36.375 \nQ 16.5 21.390625 20.328125 13.890625 \nQ 24.171875 6.390625 31.78125 6.390625 \nQ 39.453125 6.390625 43.28125 13.890625 \nQ 47.125 21.390625 47.125 36.375 \nQ 47.125 51.421875 43.28125 58.90625 \nQ 39.453125 66.40625 31.78125 66.40625 \nz\nM 31.78125 74.21875 \nQ 44.046875 74.21875 50.515625 64.515625 \nQ 56.984375 54.828125 56.984375 36.375 \nQ 56.984375 17.96875 50.515625 8.265625 \nQ 44.046875 -1.421875 31.78125 -1.421875 \nQ 19.53125 -1.421875 13.0625 8.265625 \nQ 6.59375 17.96875 6.59375 36.375 \nQ 6.59375 54.828125 13.0625 64.515625 \nQ 19.53125 74.21875 31.78125 74.21875 \nz\n\" id=\"DejaVuSans-48\"/>\n      </defs>\n      <g style=\"fill:#262626;\" transform=\"translate(111.4175 322.638281)scale(0.11 -0.11)\">\n       <use xlink:href=\"#DejaVuSans-50\"/>\n       <use x=\"63.623047\" xlink:href=\"#DejaVuSans-48\"/>\n      </g>\n     </g>\n    </g>\n    <g id=\"xtick_3\">\n     <g id=\"line2d_3\">\n      <path clip-path=\"url(#pf566d612e8)\" d=\"M 157.135 304.78 \nL 157.135 7.2 \n\" style=\"fill:none;stroke:#ffffff;stroke-linecap:round;\"/>\n     </g>\n     <g id=\"text_3\">\n      <!-- 25 -->\n      <g style=\"fill:#262626;\" transform=\"translate(150.13625 322.638281)scale(0.11 -0.11)\">\n       <use xlink:href=\"#DejaVuSans-50\"/>\n       <use x=\"63.623047\" xlink:href=\"#DejaVuSans-53\"/>\n      </g>\n     </g>\n    </g>\n    <g id=\"xtick_4\">\n     <g id=\"line2d_4\">\n      <path clip-path=\"url(#pf566d612e8)\" d=\"M 195.85375 304.78 \nL 195.85375 7.2 \n\" style=\"fill:none;stroke:#ffffff;stroke-linecap:round;\"/>\n     </g>\n     <g id=\"text_4\">\n      <!-- 30 -->\n      <defs>\n       <path d=\"M 40.578125 39.3125 \nQ 47.65625 37.796875 51.625 33 \nQ 55.609375 28.21875 55.609375 21.1875 \nQ 55.609375 10.40625 48.1875 4.484375 \nQ 40.765625 -1.421875 27.09375 -1.421875 \nQ 22.515625 -1.421875 17.65625 -0.515625 \nQ 12.796875 0.390625 7.625 2.203125 \nL 7.625 11.71875 \nQ 11.71875 9.328125 16.59375 8.109375 \nQ 21.484375 6.890625 26.8125 6.890625 \nQ 36.078125 6.890625 40.9375 10.546875 \nQ 45.796875 14.203125 45.796875 21.1875 \nQ 45.796875 27.640625 41.28125 31.265625 \nQ 36.765625 34.90625 28.71875 34.90625 \nL 20.21875 34.90625 \nL 20.21875 43.015625 \nL 29.109375 43.015625 \nQ 36.375 43.015625 40.234375 45.921875 \nQ 44.09375 48.828125 44.09375 54.296875 \nQ 44.09375 59.90625 40.109375 62.90625 \nQ 36.140625 65.921875 28.71875 65.921875 \nQ 24.65625 65.921875 20.015625 65.03125 \nQ 15.375 64.15625 9.8125 62.3125 \nL 9.8125 71.09375 \nQ 15.4375 72.65625 20.34375 73.4375 \nQ 25.25 74.21875 29.59375 74.21875 \nQ 40.828125 74.21875 47.359375 69.109375 \nQ 53.90625 64.015625 53.90625 55.328125 \nQ 53.90625 49.265625 50.4375 45.09375 \nQ 46.96875 40.921875 40.578125 39.3125 \nz\n\" id=\"DejaVuSans-51\"/>\n      </defs>\n      <g style=\"fill:#262626;\" transform=\"translate(188.855 322.638281)scale(0.11 -0.11)\">\n       <use xlink:href=\"#DejaVuSans-51\"/>\n       <use x=\"63.623047\" xlink:href=\"#DejaVuSans-48\"/>\n      </g>\n     </g>\n    </g>\n    <g id=\"xtick_5\">\n     <g id=\"line2d_5\">\n      <path clip-path=\"url(#pf566d612e8)\" d=\"M 234.5725 304.78 \nL 234.5725 7.2 \n\" style=\"fill:none;stroke:#ffffff;stroke-linecap:round;\"/>\n     </g>\n     <g id=\"text_5\">\n      <!-- 35 -->\n      <g style=\"fill:#262626;\" transform=\"translate(227.57375 322.638281)scale(0.11 -0.11)\">\n       <use xlink:href=\"#DejaVuSans-51\"/>\n       <use x=\"63.623047\" xlink:href=\"#DejaVuSans-53\"/>\n      </g>\n     </g>\n    </g>\n    <g id=\"xtick_6\">\n     <g id=\"line2d_6\">\n      <path clip-path=\"url(#pf566d612e8)\" d=\"M 273.29125 304.78 \nL 273.29125 7.2 \n\" style=\"fill:none;stroke:#ffffff;stroke-linecap:round;\"/>\n     </g>\n     <g id=\"text_6\">\n      <!-- 40 -->\n      <defs>\n       <path d=\"M 37.796875 64.3125 \nL 12.890625 25.390625 \nL 37.796875 25.390625 \nz\nM 35.203125 72.90625 \nL 47.609375 72.90625 \nL 47.609375 25.390625 \nL 58.015625 25.390625 \nL 58.015625 17.1875 \nL 47.609375 17.1875 \nL 47.609375 0 \nL 37.796875 0 \nL 37.796875 17.1875 \nL 4.890625 17.1875 \nL 4.890625 26.703125 \nz\n\" id=\"DejaVuSans-52\"/>\n      </defs>\n      <g style=\"fill:#262626;\" transform=\"translate(266.2925 322.638281)scale(0.11 -0.11)\">\n       <use xlink:href=\"#DejaVuSans-52\"/>\n       <use x=\"63.623047\" xlink:href=\"#DejaVuSans-48\"/>\n      </g>\n     </g>\n    </g>\n    <g id=\"xtick_7\">\n     <g id=\"line2d_7\">\n      <path clip-path=\"url(#pf566d612e8)\" d=\"M 312.01 304.78 \nL 312.01 7.2 \n\" style=\"fill:none;stroke:#ffffff;stroke-linecap:round;\"/>\n     </g>\n     <g id=\"text_7\">\n      <!-- 45 -->\n      <g style=\"fill:#262626;\" transform=\"translate(305.01125 322.638281)scale(0.11 -0.11)\">\n       <use xlink:href=\"#DejaVuSans-52\"/>\n       <use x=\"63.623047\" xlink:href=\"#DejaVuSans-53\"/>\n      </g>\n     </g>\n    </g>\n    <g id=\"text_8\">\n     <!-- Sequence_length -->\n     <defs>\n      <path d=\"M 53.515625 70.515625 \nL 53.515625 60.890625 \nQ 47.90625 63.578125 42.921875 64.890625 \nQ 37.9375 66.21875 33.296875 66.21875 \nQ 25.25 66.21875 20.875 63.09375 \nQ 16.5 59.96875 16.5 54.203125 \nQ 16.5 49.359375 19.40625 46.890625 \nQ 22.3125 44.4375 30.421875 42.921875 \nL 36.375 41.703125 \nQ 47.40625 39.59375 52.65625 34.296875 \nQ 57.90625 29 57.90625 20.125 \nQ 57.90625 9.515625 50.796875 4.046875 \nQ 43.703125 -1.421875 29.984375 -1.421875 \nQ 24.8125 -1.421875 18.96875 -0.25 \nQ 13.140625 0.921875 6.890625 3.21875 \nL 6.890625 13.375 \nQ 12.890625 10.015625 18.65625 8.296875 \nQ 24.421875 6.59375 29.984375 6.59375 \nQ 38.421875 6.59375 43.015625 9.90625 \nQ 47.609375 13.234375 47.609375 19.390625 \nQ 47.609375 24.75 44.3125 27.78125 \nQ 41.015625 30.8125 33.5 32.328125 \nL 27.484375 33.5 \nQ 16.453125 35.6875 11.515625 40.375 \nQ 6.59375 45.0625 6.59375 53.421875 \nQ 6.59375 63.09375 13.40625 68.65625 \nQ 20.21875 74.21875 32.171875 74.21875 \nQ 37.3125 74.21875 42.625 73.28125 \nQ 47.953125 72.359375 53.515625 70.515625 \nz\n\" id=\"DejaVuSans-83\"/>\n      <path d=\"M 56.203125 29.59375 \nL 56.203125 25.203125 \nL 14.890625 25.203125 \nQ 15.484375 15.921875 20.484375 11.0625 \nQ 25.484375 6.203125 34.421875 6.203125 \nQ 39.59375 6.203125 44.453125 7.46875 \nQ 49.3125 8.734375 54.109375 11.28125 \nL 54.109375 2.78125 \nQ 49.265625 0.734375 44.1875 -0.34375 \nQ 39.109375 -1.421875 33.890625 -1.421875 \nQ 20.796875 -1.421875 13.15625 6.1875 \nQ 5.515625 13.8125 5.515625 26.8125 \nQ 5.515625 40.234375 12.765625 48.109375 \nQ 20.015625 56 32.328125 56 \nQ 43.359375 56 49.78125 48.890625 \nQ 56.203125 41.796875 56.203125 29.59375 \nz\nM 47.21875 32.234375 \nQ 47.125 39.59375 43.09375 43.984375 \nQ 39.0625 48.390625 32.421875 48.390625 \nQ 24.90625 48.390625 20.390625 44.140625 \nQ 15.875 39.890625 15.1875 32.171875 \nz\n\" id=\"DejaVuSans-101\"/>\n      <path d=\"M 14.796875 27.296875 \nQ 14.796875 17.390625 18.875 11.75 \nQ 22.953125 6.109375 30.078125 6.109375 \nQ 37.203125 6.109375 41.296875 11.75 \nQ 45.40625 17.390625 45.40625 27.296875 \nQ 45.40625 37.203125 41.296875 42.84375 \nQ 37.203125 48.484375 30.078125 48.484375 \nQ 22.953125 48.484375 18.875 42.84375 \nQ 14.796875 37.203125 14.796875 27.296875 \nz\nM 45.40625 8.203125 \nQ 42.578125 3.328125 38.25 0.953125 \nQ 33.9375 -1.421875 27.875 -1.421875 \nQ 17.96875 -1.421875 11.734375 6.484375 \nQ 5.515625 14.40625 5.515625 27.296875 \nQ 5.515625 40.1875 11.734375 48.09375 \nQ 17.96875 56 27.875 56 \nQ 33.9375 56 38.25 53.625 \nQ 42.578125 51.265625 45.40625 46.390625 \nL 45.40625 54.6875 \nL 54.390625 54.6875 \nL 54.390625 -20.796875 \nL 45.40625 -20.796875 \nz\n\" id=\"DejaVuSans-113\"/>\n      <path d=\"M 8.5 21.578125 \nL 8.5 54.6875 \nL 17.484375 54.6875 \nL 17.484375 21.921875 \nQ 17.484375 14.15625 20.5 10.265625 \nQ 23.53125 6.390625 29.59375 6.390625 \nQ 36.859375 6.390625 41.078125 11.03125 \nQ 45.3125 15.671875 45.3125 23.6875 \nL 45.3125 54.6875 \nL 54.296875 54.6875 \nL 54.296875 0 \nL 45.3125 0 \nL 45.3125 8.40625 \nQ 42.046875 3.421875 37.71875 1 \nQ 33.40625 -1.421875 27.6875 -1.421875 \nQ 18.265625 -1.421875 13.375 4.4375 \nQ 8.5 10.296875 8.5 21.578125 \nz\nM 31.109375 56 \nz\n\" id=\"DejaVuSans-117\"/>\n      <path d=\"M 54.890625 33.015625 \nL 54.890625 0 \nL 45.90625 0 \nL 45.90625 32.71875 \nQ 45.90625 40.484375 42.875 44.328125 \nQ 39.84375 48.1875 33.796875 48.1875 \nQ 26.515625 48.1875 22.3125 43.546875 \nQ 18.109375 38.921875 18.109375 30.90625 \nL 18.109375 0 \nL 9.078125 0 \nL 9.078125 54.6875 \nL 18.109375 54.6875 \nL 18.109375 46.1875 \nQ 21.34375 51.125 25.703125 53.5625 \nQ 30.078125 56 35.796875 56 \nQ 45.21875 56 50.046875 50.171875 \nQ 54.890625 44.34375 54.890625 33.015625 \nz\n\" id=\"DejaVuSans-110\"/>\n      <path d=\"M 48.78125 52.59375 \nL 48.78125 44.1875 \nQ 44.96875 46.296875 41.140625 47.34375 \nQ 37.3125 48.390625 33.40625 48.390625 \nQ 24.65625 48.390625 19.8125 42.84375 \nQ 14.984375 37.3125 14.984375 27.296875 \nQ 14.984375 17.28125 19.8125 11.734375 \nQ 24.65625 6.203125 33.40625 6.203125 \nQ 37.3125 6.203125 41.140625 7.25 \nQ 44.96875 8.296875 48.78125 10.40625 \nL 48.78125 2.09375 \nQ 45.015625 0.34375 40.984375 -0.53125 \nQ 36.96875 -1.421875 32.421875 -1.421875 \nQ 20.0625 -1.421875 12.78125 6.34375 \nQ 5.515625 14.109375 5.515625 27.296875 \nQ 5.515625 40.671875 12.859375 48.328125 \nQ 20.21875 56 33.015625 56 \nQ 37.15625 56 41.109375 55.140625 \nQ 45.0625 54.296875 48.78125 52.59375 \nz\n\" id=\"DejaVuSans-99\"/>\n      <path d=\"M 50.984375 -16.609375 \nL 50.984375 -23.578125 \nL -0.984375 -23.578125 \nL -0.984375 -16.609375 \nz\n\" id=\"DejaVuSans-95\"/>\n      <path d=\"M 9.421875 75.984375 \nL 18.40625 75.984375 \nL 18.40625 0 \nL 9.421875 0 \nz\n\" id=\"DejaVuSans-108\"/>\n      <path d=\"M 45.40625 27.984375 \nQ 45.40625 37.75 41.375 43.109375 \nQ 37.359375 48.484375 30.078125 48.484375 \nQ 22.859375 48.484375 18.828125 43.109375 \nQ 14.796875 37.75 14.796875 27.984375 \nQ 14.796875 18.265625 18.828125 12.890625 \nQ 22.859375 7.515625 30.078125 7.515625 \nQ 37.359375 7.515625 41.375 12.890625 \nQ 45.40625 18.265625 45.40625 27.984375 \nz\nM 54.390625 6.78125 \nQ 54.390625 -7.171875 48.1875 -13.984375 \nQ 42 -20.796875 29.203125 -20.796875 \nQ 24.46875 -20.796875 20.265625 -20.09375 \nQ 16.0625 -19.390625 12.109375 -17.921875 \nL 12.109375 -9.1875 \nQ 16.0625 -11.328125 19.921875 -12.34375 \nQ 23.78125 -13.375 27.78125 -13.375 \nQ 36.625 -13.375 41.015625 -8.765625 \nQ 45.40625 -4.15625 45.40625 5.171875 \nL 45.40625 9.625 \nQ 42.625 4.78125 38.28125 2.390625 \nQ 33.9375 0 27.875 0 \nQ 17.828125 0 11.671875 7.65625 \nQ 5.515625 15.328125 5.515625 27.984375 \nQ 5.515625 40.671875 11.671875 48.328125 \nQ 17.828125 56 27.875 56 \nQ 33.9375 56 38.28125 53.609375 \nQ 42.625 51.21875 45.40625 46.390625 \nL 45.40625 54.6875 \nL 54.390625 54.6875 \nz\n\" id=\"DejaVuSans-103\"/>\n      <path d=\"M 18.3125 70.21875 \nL 18.3125 54.6875 \nL 36.8125 54.6875 \nL 36.8125 47.703125 \nL 18.3125 47.703125 \nL 18.3125 18.015625 \nQ 18.3125 11.328125 20.140625 9.421875 \nQ 21.96875 7.515625 27.59375 7.515625 \nL 36.8125 7.515625 \nL 36.8125 0 \nL 27.59375 0 \nQ 17.1875 0 13.234375 3.875 \nQ 9.28125 7.765625 9.28125 18.015625 \nL 9.28125 47.703125 \nL 2.6875 47.703125 \nL 2.6875 54.6875 \nL 9.28125 54.6875 \nL 9.28125 70.21875 \nz\n\" id=\"DejaVuSans-116\"/>\n      <path d=\"M 54.890625 33.015625 \nL 54.890625 0 \nL 45.90625 0 \nL 45.90625 32.71875 \nQ 45.90625 40.484375 42.875 44.328125 \nQ 39.84375 48.1875 33.796875 48.1875 \nQ 26.515625 48.1875 22.3125 43.546875 \nQ 18.109375 38.921875 18.109375 30.90625 \nL 18.109375 0 \nL 9.078125 0 \nL 9.078125 75.984375 \nL 18.109375 75.984375 \nL 18.109375 46.1875 \nQ 21.34375 51.125 25.703125 53.5625 \nQ 30.078125 56 35.796875 56 \nQ 45.21875 56 50.046875 50.171875 \nQ 54.890625 44.34375 54.890625 33.015625 \nz\n\" id=\"DejaVuSans-104\"/>\n     </defs>\n     <g style=\"fill:#262626;\" transform=\"translate(151.874687 338.044062)scale(0.12 -0.12)\">\n      <use xlink:href=\"#DejaVuSans-83\"/>\n      <use x=\"63.476562\" xlink:href=\"#DejaVuSans-101\"/>\n      <use x=\"125\" xlink:href=\"#DejaVuSans-113\"/>\n      <use x=\"188.476562\" xlink:href=\"#DejaVuSans-117\"/>\n      <use x=\"251.855469\" xlink:href=\"#DejaVuSans-101\"/>\n      <use x=\"313.378906\" xlink:href=\"#DejaVuSans-110\"/>\n      <use x=\"376.757812\" xlink:href=\"#DejaVuSans-99\"/>\n      <use x=\"431.738281\" xlink:href=\"#DejaVuSans-101\"/>\n      <use x=\"493.261719\" xlink:href=\"#DejaVuSans-95\"/>\n      <use x=\"543.261719\" xlink:href=\"#DejaVuSans-108\"/>\n      <use x=\"571.044922\" xlink:href=\"#DejaVuSans-101\"/>\n      <use x=\"632.568359\" xlink:href=\"#DejaVuSans-110\"/>\n      <use x=\"695.947266\" xlink:href=\"#DejaVuSans-103\"/>\n      <use x=\"759.423828\" xlink:href=\"#DejaVuSans-116\"/>\n      <use x=\"798.632812\" xlink:href=\"#DejaVuSans-104\"/>\n     </g>\n    </g>\n   </g>\n   <g id=\"matplotlib.axis_2\">\n    <g id=\"ytick_1\">\n     <g id=\"line2d_8\">\n      <path clip-path=\"url(#pf566d612e8)\" d=\"M 67.3075 304.78 \nL 339.8875 304.78 \n\" style=\"fill:none;stroke:#ffffff;stroke-linecap:round;\"/>\n     </g>\n     <g id=\"text_9\">\n      <!-- 0 -->\n      <g style=\"fill:#262626;\" transform=\"translate(50.80875 308.959141)scale(0.11 -0.11)\">\n       <use xlink:href=\"#DejaVuSans-48\"/>\n      </g>\n     </g>\n    </g>\n    <g id=\"ytick_2\">\n     <g id=\"line2d_9\">\n      <path clip-path=\"url(#pf566d612e8)\" d=\"M 67.3075 250.304548 \nL 339.8875 250.304548 \n\" style=\"fill:none;stroke:#ffffff;stroke-linecap:round;\"/>\n     </g>\n     <g id=\"text_10\">\n      <!-- 5000 -->\n      <g style=\"fill:#262626;\" transform=\"translate(29.8125 254.483689)scale(0.11 -0.11)\">\n       <use xlink:href=\"#DejaVuSans-53\"/>\n       <use x=\"63.623047\" xlink:href=\"#DejaVuSans-48\"/>\n       <use x=\"127.246094\" xlink:href=\"#DejaVuSans-48\"/>\n       <use x=\"190.869141\" xlink:href=\"#DejaVuSans-48\"/>\n      </g>\n     </g>\n    </g>\n    <g id=\"ytick_3\">\n     <g id=\"line2d_10\">\n      <path clip-path=\"url(#pf566d612e8)\" d=\"M 67.3075 195.829096 \nL 339.8875 195.829096 \n\" style=\"fill:none;stroke:#ffffff;stroke-linecap:round;\"/>\n     </g>\n     <g id=\"text_11\">\n      <!-- 10000 -->\n      <g style=\"fill:#262626;\" transform=\"translate(22.81375 200.008237)scale(0.11 -0.11)\">\n       <use xlink:href=\"#DejaVuSans-49\"/>\n       <use x=\"63.623047\" xlink:href=\"#DejaVuSans-48\"/>\n       <use x=\"127.246094\" xlink:href=\"#DejaVuSans-48\"/>\n       <use x=\"190.869141\" xlink:href=\"#DejaVuSans-48\"/>\n       <use x=\"254.492188\" xlink:href=\"#DejaVuSans-48\"/>\n      </g>\n     </g>\n    </g>\n    <g id=\"ytick_4\">\n     <g id=\"line2d_11\">\n      <path clip-path=\"url(#pf566d612e8)\" d=\"M 67.3075 141.353645 \nL 339.8875 141.353645 \n\" style=\"fill:none;stroke:#ffffff;stroke-linecap:round;\"/>\n     </g>\n     <g id=\"text_12\">\n      <!-- 15000 -->\n      <g style=\"fill:#262626;\" transform=\"translate(22.81375 145.532785)scale(0.11 -0.11)\">\n       <use xlink:href=\"#DejaVuSans-49\"/>\n       <use x=\"63.623047\" xlink:href=\"#DejaVuSans-53\"/>\n       <use x=\"127.246094\" xlink:href=\"#DejaVuSans-48\"/>\n       <use x=\"190.869141\" xlink:href=\"#DejaVuSans-48\"/>\n       <use x=\"254.492188\" xlink:href=\"#DejaVuSans-48\"/>\n      </g>\n     </g>\n    </g>\n    <g id=\"ytick_5\">\n     <g id=\"line2d_12\">\n      <path clip-path=\"url(#pf566d612e8)\" d=\"M 67.3075 86.878193 \nL 339.8875 86.878193 \n\" style=\"fill:none;stroke:#ffffff;stroke-linecap:round;\"/>\n     </g>\n     <g id=\"text_13\">\n      <!-- 20000 -->\n      <g style=\"fill:#262626;\" transform=\"translate(22.81375 91.057333)scale(0.11 -0.11)\">\n       <use xlink:href=\"#DejaVuSans-50\"/>\n       <use x=\"63.623047\" xlink:href=\"#DejaVuSans-48\"/>\n       <use x=\"127.246094\" xlink:href=\"#DejaVuSans-48\"/>\n       <use x=\"190.869141\" xlink:href=\"#DejaVuSans-48\"/>\n       <use x=\"254.492188\" xlink:href=\"#DejaVuSans-48\"/>\n      </g>\n     </g>\n    </g>\n    <g id=\"ytick_6\">\n     <g id=\"line2d_13\">\n      <path clip-path=\"url(#pf566d612e8)\" d=\"M 67.3075 32.402741 \nL 339.8875 32.402741 \n\" style=\"fill:none;stroke:#ffffff;stroke-linecap:round;\"/>\n     </g>\n     <g id=\"text_14\">\n      <!-- 25000 -->\n      <g style=\"fill:#262626;\" transform=\"translate(22.81375 36.581882)scale(0.11 -0.11)\">\n       <use xlink:href=\"#DejaVuSans-50\"/>\n       <use x=\"63.623047\" xlink:href=\"#DejaVuSans-53\"/>\n       <use x=\"127.246094\" xlink:href=\"#DejaVuSans-48\"/>\n       <use x=\"190.869141\" xlink:href=\"#DejaVuSans-48\"/>\n       <use x=\"254.492188\" xlink:href=\"#DejaVuSans-48\"/>\n      </g>\n     </g>\n    </g>\n    <g id=\"text_15\">\n     <!-- Count -->\n     <defs>\n      <path d=\"M 64.40625 67.28125 \nL 64.40625 56.890625 \nQ 59.421875 61.53125 53.78125 63.8125 \nQ 48.140625 66.109375 41.796875 66.109375 \nQ 29.296875 66.109375 22.65625 58.46875 \nQ 16.015625 50.828125 16.015625 36.375 \nQ 16.015625 21.96875 22.65625 14.328125 \nQ 29.296875 6.6875 41.796875 6.6875 \nQ 48.140625 6.6875 53.78125 8.984375 \nQ 59.421875 11.28125 64.40625 15.921875 \nL 64.40625 5.609375 \nQ 59.234375 2.09375 53.4375 0.328125 \nQ 47.65625 -1.421875 41.21875 -1.421875 \nQ 24.65625 -1.421875 15.125 8.703125 \nQ 5.609375 18.84375 5.609375 36.375 \nQ 5.609375 53.953125 15.125 64.078125 \nQ 24.65625 74.21875 41.21875 74.21875 \nQ 47.75 74.21875 53.53125 72.484375 \nQ 59.328125 70.75 64.40625 67.28125 \nz\n\" id=\"DejaVuSans-67\"/>\n      <path d=\"M 30.609375 48.390625 \nQ 23.390625 48.390625 19.1875 42.75 \nQ 14.984375 37.109375 14.984375 27.296875 \nQ 14.984375 17.484375 19.15625 11.84375 \nQ 23.34375 6.203125 30.609375 6.203125 \nQ 37.796875 6.203125 41.984375 11.859375 \nQ 46.1875 17.53125 46.1875 27.296875 \nQ 46.1875 37.015625 41.984375 42.703125 \nQ 37.796875 48.390625 30.609375 48.390625 \nz\nM 30.609375 56 \nQ 42.328125 56 49.015625 48.375 \nQ 55.71875 40.765625 55.71875 27.296875 \nQ 55.71875 13.875 49.015625 6.21875 \nQ 42.328125 -1.421875 30.609375 -1.421875 \nQ 18.84375 -1.421875 12.171875 6.21875 \nQ 5.515625 13.875 5.515625 27.296875 \nQ 5.515625 40.765625 12.171875 48.375 \nQ 18.84375 56 30.609375 56 \nz\n\" id=\"DejaVuSans-111\"/>\n     </defs>\n     <g style=\"fill:#262626;\" transform=\"translate(16.318125 173.808125)rotate(-90)scale(0.12 -0.12)\">\n      <use xlink:href=\"#DejaVuSans-67\"/>\n      <use x=\"69.824219\" xlink:href=\"#DejaVuSans-111\"/>\n      <use x=\"131.005859\" xlink:href=\"#DejaVuSans-117\"/>\n      <use x=\"194.384766\" xlink:href=\"#DejaVuSans-110\"/>\n      <use x=\"257.763672\" xlink:href=\"#DejaVuSans-116\"/>\n     </g>\n    </g>\n   </g>\n   <g id=\"patch_3\">\n    <path clip-path=\"url(#pf566d612e8)\" d=\"M 79.6975 304.78 \nL 87.44125 304.78 \nL 87.44125 304.681944 \nL 79.6975 304.681944 \nz\n\" style=\"fill:#4c72b0;fill-opacity:0.5;stroke:#ffffff;stroke-linejoin:miter;stroke-width:0.848061;\"/>\n   </g>\n   <g id=\"patch_4\">\n    <path clip-path=\"url(#pf566d612e8)\" d=\"M 87.44125 304.78 \nL 95.185 304.78 \nL 95.185 304.660154 \nL 87.44125 304.660154 \nz\n\" style=\"fill:#4c72b0;fill-opacity:0.5;stroke:#ffffff;stroke-linejoin:miter;stroke-width:0.848061;\"/>\n   </g>\n   <g id=\"patch_5\">\n    <path clip-path=\"url(#pf566d612e8)\" d=\"M 95.185 304.78 \nL 102.92875 304.78 \nL 102.92875 304.671049 \nL 95.185 304.671049 \nz\n\" style=\"fill:#4c72b0;fill-opacity:0.5;stroke:#ffffff;stroke-linejoin:miter;stroke-width:0.848061;\"/>\n   </g>\n   <g id=\"patch_6\">\n    <path clip-path=\"url(#pf566d612e8)\" d=\"M 102.92875 304.78 \nL 110.6725 304.78 \nL 110.6725 304.551203 \nL 102.92875 304.551203 \nz\n\" style=\"fill:#4c72b0;fill-opacity:0.5;stroke:#ffffff;stroke-linejoin:miter;stroke-width:0.848061;\"/>\n   </g>\n   <g id=\"patch_7\">\n    <path clip-path=\"url(#pf566d612e8)\" d=\"M 110.6725 304.78 \nL 118.41625 304.78 \nL 118.41625 304.649259 \nL 110.6725 304.649259 \nz\n\" style=\"fill:#4c72b0;fill-opacity:0.5;stroke:#ffffff;stroke-linejoin:miter;stroke-width:0.848061;\"/>\n   </g>\n   <g id=\"patch_8\">\n    <path clip-path=\"url(#pf566d612e8)\" d=\"M 118.41625 304.78 \nL 126.16 304.78 \nL 126.16 304.671049 \nL 118.41625 304.671049 \nz\n\" style=\"fill:#4c72b0;fill-opacity:0.5;stroke:#ffffff;stroke-linejoin:miter;stroke-width:0.848061;\"/>\n   </g>\n   <g id=\"patch_9\">\n    <path clip-path=\"url(#pf566d612e8)\" d=\"M 126.16 304.78 \nL 133.90375 304.78 \nL 133.90375 304.551203 \nL 126.16 304.551203 \nz\n\" style=\"fill:#4c72b0;fill-opacity:0.5;stroke:#ffffff;stroke-linejoin:miter;stroke-width:0.848061;\"/>\n   </g>\n   <g id=\"patch_10\">\n    <path clip-path=\"url(#pf566d612e8)\" d=\"M 133.90375 304.78 \nL 141.6475 304.78 \nL 141.6475 304.464042 \nL 133.90375 304.464042 \nz\n\" style=\"fill:#4c72b0;fill-opacity:0.5;stroke:#ffffff;stroke-linejoin:miter;stroke-width:0.848061;\"/>\n   </g>\n   <g id=\"patch_11\">\n    <path clip-path=\"url(#pf566d612e8)\" d=\"M 141.6475 304.78 \nL 149.39125 304.78 \nL 149.39125 304.627469 \nL 141.6475 304.627469 \nz\n\" style=\"fill:#4c72b0;fill-opacity:0.5;stroke:#ffffff;stroke-linejoin:miter;stroke-width:0.848061;\"/>\n   </g>\n   <g id=\"patch_12\">\n    <path clip-path=\"url(#pf566d612e8)\" d=\"M 149.39125 304.78 \nL 157.135 304.78 \nL 157.135 304.148085 \nL 149.39125 304.148085 \nz\n\" style=\"fill:#4c72b0;fill-opacity:0.5;stroke:#ffffff;stroke-linejoin:miter;stroke-width:0.848061;\"/>\n   </g>\n   <g id=\"patch_13\">\n    <path clip-path=\"url(#pf566d612e8)\" d=\"M 157.135 304.78 \nL 164.87875 304.78 \nL 164.87875 304.387777 \nL 157.135 304.387777 \nz\n\" style=\"fill:#4c72b0;fill-opacity:0.5;stroke:#ffffff;stroke-linejoin:miter;stroke-width:0.848061;\"/>\n   </g>\n   <g id=\"patch_14\">\n    <path clip-path=\"url(#pf566d612e8)\" d=\"M 164.87875 304.78 \nL 172.6225 304.78 \nL 172.6225 304.22435 \nL 164.87875 304.22435 \nz\n\" style=\"fill:#4c72b0;fill-opacity:0.5;stroke:#ffffff;stroke-linejoin:miter;stroke-width:0.848061;\"/>\n   </g>\n   <g id=\"patch_15\">\n    <path clip-path=\"url(#pf566d612e8)\" d=\"M 172.6225 304.78 \nL 180.36625 304.78 \nL 180.36625 304.15898 \nL 172.6225 304.15898 \nz\n\" style=\"fill:#4c72b0;fill-opacity:0.5;stroke:#ffffff;stroke-linejoin:miter;stroke-width:0.848061;\"/>\n   </g>\n   <g id=\"patch_16\">\n    <path clip-path=\"url(#pf566d612e8)\" d=\"M 180.36625 304.78 \nL 188.11 304.78 \nL 188.11 304.485833 \nL 180.36625 304.485833 \nz\n\" style=\"fill:#4c72b0;fill-opacity:0.5;stroke:#ffffff;stroke-linejoin:miter;stroke-width:0.848061;\"/>\n   </g>\n   <g id=\"patch_17\">\n    <path clip-path=\"url(#pf566d612e8)\" d=\"M 188.11 304.78 \nL 195.85375 304.78 \nL 195.85375 303.189317 \nL 188.11 303.189317 \nz\n\" style=\"fill:#4c72b0;fill-opacity:0.5;stroke:#ffffff;stroke-linejoin:miter;stroke-width:0.848061;\"/>\n   </g>\n   <g id=\"patch_18\">\n    <path clip-path=\"url(#pf566d612e8)\" d=\"M 195.85375 304.78 \nL 203.5975 304.78 \nL 203.5975 302.971415 \nL 195.85375 302.971415 \nz\n\" style=\"fill:#4c72b0;fill-opacity:0.5;stroke:#ffffff;stroke-linejoin:miter;stroke-width:0.848061;\"/>\n   </g>\n   <g id=\"patch_19\">\n    <path clip-path=\"url(#pf566d612e8)\" d=\"M 203.5975 304.78 \nL 211.34125 304.78 \nL 211.34125 300.759712 \nL 203.5975 300.759712 \nz\n\" style=\"fill:#4c72b0;fill-opacity:0.5;stroke:#ffffff;stroke-linejoin:miter;stroke-width:0.848061;\"/>\n   </g>\n   <g id=\"patch_20\">\n    <path clip-path=\"url(#pf566d612e8)\" d=\"M 211.34125 304.78 \nL 219.085 304.78 \nL 219.085 303.341848 \nL 211.34125 303.341848 \nz\n\" style=\"fill:#4c72b0;fill-opacity:0.5;stroke:#ffffff;stroke-linejoin:miter;stroke-width:0.848061;\"/>\n   </g>\n   <g id=\"patch_21\">\n    <path clip-path=\"url(#pf566d612e8)\" d=\"M 219.085 304.78 \nL 226.82875 304.78 \nL 226.82875 303.461694 \nL 219.085 303.461694 \nz\n\" style=\"fill:#4c72b0;fill-opacity:0.5;stroke:#ffffff;stroke-linejoin:miter;stroke-width:0.848061;\"/>\n   </g>\n   <g id=\"patch_22\">\n    <path clip-path=\"url(#pf566d612e8)\" d=\"M 226.82875 304.78 \nL 234.5725 304.78 \nL 234.5725 301.838326 \nL 226.82875 301.838326 \nz\n\" style=\"fill:#4c72b0;fill-opacity:0.5;stroke:#ffffff;stroke-linejoin:miter;stroke-width:0.848061;\"/>\n   </g>\n   <g id=\"patch_23\">\n    <path clip-path=\"url(#pf566d612e8)\" d=\"M 234.5725 304.78 \nL 242.31625 304.78 \nL 242.31625 303.570645 \nL 234.5725 303.570645 \nz\n\" style=\"fill:#4c72b0;fill-opacity:0.5;stroke:#ffffff;stroke-linejoin:miter;stroke-width:0.848061;\"/>\n   </g>\n   <g id=\"patch_24\">\n    <path clip-path=\"url(#pf566d612e8)\" d=\"M 242.31625 304.78 \nL 250.06 304.78 \nL 250.06 303.592435 \nL 242.31625 303.592435 \nz\n\" style=\"fill:#4c72b0;fill-opacity:0.5;stroke:#ffffff;stroke-linejoin:miter;stroke-width:0.848061;\"/>\n   </g>\n   <g id=\"patch_25\">\n    <path clip-path=\"url(#pf566d612e8)\" d=\"M 250.06 304.78 \nL 257.80375 304.78 \nL 257.80375 301.838326 \nL 250.06 301.838326 \nz\n\" style=\"fill:#4c72b0;fill-opacity:0.5;stroke:#ffffff;stroke-linejoin:miter;stroke-width:0.848061;\"/>\n   </g>\n   <g id=\"patch_26\">\n    <path clip-path=\"url(#pf566d612e8)\" d=\"M 257.80375 304.78 \nL 265.5475 304.78 \nL 265.5475 301.304466 \nL 257.80375 301.304466 \nz\n\" style=\"fill:#4c72b0;fill-opacity:0.5;stroke:#ffffff;stroke-linejoin:miter;stroke-width:0.848061;\"/>\n   </g>\n   <g id=\"patch_27\">\n    <path clip-path=\"url(#pf566d612e8)\" d=\"M 265.5475 304.78 \nL 273.29125 304.78 \nL 273.29125 297.055381 \nL 265.5475 297.055381 \nz\n\" style=\"fill:#4c72b0;fill-opacity:0.5;stroke:#ffffff;stroke-linejoin:miter;stroke-width:0.848061;\"/>\n   </g>\n   <g id=\"patch_28\">\n    <path clip-path=\"url(#pf566d612e8)\" d=\"M 273.29125 304.78 \nL 281.035 304.78 \nL 281.035 297.109856 \nL 273.29125 297.109856 \nz\n\" style=\"fill:#4c72b0;fill-opacity:0.5;stroke:#ffffff;stroke-linejoin:miter;stroke-width:0.848061;\"/>\n   </g>\n   <g id=\"patch_29\">\n    <path clip-path=\"url(#pf566d612e8)\" d=\"M 281.035 304.78 \nL 288.77875 304.78 \nL 288.77875 280.08083 \nL 281.035 280.08083 \nz\n\" style=\"fill:#4c72b0;fill-opacity:0.5;stroke:#ffffff;stroke-linejoin:miter;stroke-width:0.848061;\"/>\n   </g>\n   <g id=\"patch_30\">\n    <path clip-path=\"url(#pf566d612e8)\" d=\"M 288.77875 304.78 \nL 296.5225 304.78 \nL 296.5225 38.525782 \nL 288.77875 38.525782 \nz\n\" style=\"fill:#4c72b0;fill-opacity:0.5;stroke:#ffffff;stroke-linejoin:miter;stroke-width:0.848061;\"/>\n   </g>\n   <g id=\"patch_31\">\n    <path clip-path=\"url(#pf566d612e8)\" d=\"M 296.5225 304.78 \nL 304.26625 304.78 \nL 304.26625 303.592435 \nL 296.5225 303.592435 \nz\n\" style=\"fill:#4c72b0;fill-opacity:0.5;stroke:#ffffff;stroke-linejoin:miter;stroke-width:0.848061;\"/>\n   </g>\n   <g id=\"patch_32\">\n    <path clip-path=\"url(#pf566d612e8)\" d=\"M 304.26625 304.78 \nL 312.01 304.78 \nL 312.01 304.627469 \nL 304.26625 304.627469 \nz\n\" style=\"fill:#4c72b0;fill-opacity:0.5;stroke:#ffffff;stroke-linejoin:miter;stroke-width:0.848061;\"/>\n   </g>\n   <g id=\"patch_33\">\n    <path clip-path=\"url(#pf566d612e8)\" d=\"M 312.01 304.78 \nL 319.75375 304.78 \nL 319.75375 304.73642 \nL 312.01 304.73642 \nz\n\" style=\"fill:#4c72b0;fill-opacity:0.5;stroke:#ffffff;stroke-linejoin:miter;stroke-width:0.848061;\"/>\n   </g>\n   <g id=\"patch_34\">\n    <path clip-path=\"url(#pf566d612e8)\" d=\"M 319.75375 304.78 \nL 327.4975 304.78 \nL 327.4975 304.714629 \nL 319.75375 304.714629 \nz\n\" style=\"fill:#4c72b0;fill-opacity:0.5;stroke:#ffffff;stroke-linejoin:miter;stroke-width:0.848061;\"/>\n   </g>\n   <g id=\"line2d_14\">\n    <path clip-path=\"url(#pf566d612e8)\" d=\"M 79.6975 304.672139 \nL 99.621118 304.616455 \nL 103.356796 304.531415 \nL 114.563832 304.674989 \nL 124.525641 304.55784 \nL 129.506545 304.547577 \nL 135.732676 304.482989 \nL 139.468354 304.601857 \nL 144.449259 304.519287 \nL 149.430163 304.091649 \nL 160.637198 304.374044 \nL 166.863329 304.217965 \nL 169.353781 304.248364 \nL 173.08946 304.103985 \nL 179.31559 304.42313 \nL 181.806043 304.337902 \nL 183.051269 304.202777 \nL 185.541721 303.568117 \nL 186.786947 303.21388 \nL 188.032173 303.029165 \nL 189.277399 303.068978 \nL 191.767852 303.296931 \nL 193.013078 303.174255 \nL 195.50353 302.71685 \nL 197.993982 302.642315 \nL 199.239209 302.414203 \nL 200.484435 301.829821 \nL 201.729661 301.048879 \nL 202.974887 300.484901 \nL 204.220113 300.49824 \nL 205.465339 301.09828 \nL 206.710565 301.9402 \nL 207.955791 302.614143 \nL 209.201018 302.943392 \nL 212.936696 303.291156 \nL 215.427148 303.573427 \nL 221.653279 303.187855 \nL 222.898505 302.932879 \nL 225.388957 301.872677 \nL 226.634183 301.582181 \nL 227.87941 301.746559 \nL 231.615088 303.206251 \nL 234.10554 303.35168 \nL 236.595992 303.578088 \nL 237.841219 303.708149 \nL 239.086445 303.711215 \nL 242.822123 303.373143 \nL 245.312575 303.212215 \nL 246.557802 302.829216 \nL 249.048254 301.71178 \nL 250.29348 301.503679 \nL 254.029158 301.955579 \nL 255.274384 301.608669 \nL 256.519611 301.099162 \nL 257.764837 300.765817 \nL 260.255289 300.619027 \nL 261.500515 300.015677 \nL 262.745741 298.738384 \nL 263.990967 297.235291 \nL 265.236193 296.302625 \nL 266.48142 296.417018 \nL 267.726646 297.265151 \nL 268.971872 297.967739 \nL 270.217098 297.833889 \nL 272.70755 295.962715 \nL 275.198003 294.670834 \nL 276.443229 292.669051 \nL 277.688455 288.454716 \nL 278.933681 282.412524 \nL 280.178907 275.593734 \nL 281.424133 267.06917 \nL 282.669359 251.22322 \nL 283.914585 218.901999 \nL 285.159812 164.804883 \nL 286.405038 97.282963 \nL 287.650264 40.407424 \nL 288.89549 21.370476 \nL 290.140716 50.954676 \nL 291.385942 115.218591 \nL 292.631168 186.658666 \nL 293.876394 243.118607 \nL 295.121621 277.466638 \nL 296.366847 294.130226 \nL 297.612073 300.791934 \nL 298.857299 303.141923 \nL 300.102525 303.986904 \nL 301.347751 304.338953 \nL 303.838204 304.565131 \nL 311.30956 304.726398 \nL 327.4975 304.710538 \nL 327.4975 304.710538 \n\" style=\"fill:none;stroke:#4c72b0;stroke-linecap:round;stroke-width:1.5;\"/>\n   </g>\n   <g id=\"patch_35\">\n    <path d=\"M 67.3075 304.78 \nL 67.3075 7.2 \n\" style=\"fill:none;stroke:#ffffff;stroke-linecap:square;stroke-linejoin:miter;stroke-width:1.25;\"/>\n   </g>\n   <g id=\"patch_36\">\n    <path d=\"M 67.3075 304.78 \nL 339.8875 304.78 \n\" style=\"fill:none;stroke:#ffffff;stroke-linecap:square;stroke-linejoin:miter;stroke-width:1.25;\"/>\n   </g>\n  </g>\n </g>\n <defs>\n  <clipPath id=\"pf566d612e8\">\n   <rect height=\"297.58\" width=\"272.58\" x=\"67.3075\" y=\"7.2\"/>\n  </clipPath>\n </defs>\n</svg>\n",
      "text/plain": [
       "<Figure size 360x360 with 1 Axes>"
      ]
     },
     "metadata": {},
     "output_type": "display_data"
    }
   ],
   "source": [
    "# Take the outputted file from above and pass to len_distro which will provide a \n",
    "# seaborn displot, can add bin width and, x and y size as arguments if necessary. \n",
    "# This function is used to assess size distrobution of sequences which can be \n",
    "# filtered if necessary\n",
    "\n",
    "# Here I've used a binwidth of 1\n",
    "\n",
    "len_distro(f'input/PF01352_full.txt', 1)"
   ]
  },
  {
   "cell_type": "code",
   "execution_count": 4,
   "metadata": {},
   "outputs": [
    {
     "name": "stdout",
     "output_type": "stream",
     "text": [
      "Seqeunces from input/PF01352_full.txt were filtered to those greater than 39 aa\n",
      "27542 filtered sequences were outputed to \"output/211119_KRAB_PFAM_size_filt.fasta\"\n"
     ]
    }
   ],
   "source": [
    "# This function takes a fasta file, project name, data source as arguments. \n",
    "# Stiplute 'greater' or 'less' and the length in resiudes as arguments to \n",
    "# filter out others that do not meet that condition. \n",
    "\n",
    "# Here I've retained sequences of > than 39 residues in length, discarding \n",
    "# the rest.   \n",
    "\n",
    "size_filter(f'input/PF01352_full.txt', PROJECT, 'PFAM', 'greater', 39)"
   ]
  },
  {
   "cell_type": "code",
   "execution_count": 5,
   "metadata": {},
   "outputs": [
    {
     "data": {
      "image/png": "[encoded data removed]",
      "image/svg+xml": "<?xml version=\"1.0\" encoding=\"utf-8\" standalone=\"no\"?>\n<!DOCTYPE svg PUBLIC \"-//W3C//DTD SVG 1.1//EN\"\n  \"http://www.w3.org/Graphics/SVG/1.1/DTD/svg11.dtd\">\n<!-- Created with matplotlib (https://matplotlib.org/) -->\n<svg height=\"348.073437pt\" version=\"1.1\" viewBox=\"0 0 347.08625 348.073437\" width=\"347.08625pt\" xmlns=\"http://www.w3.org/2000/svg\" xmlns:xlink=\"http://www.w3.org/1999/xlink\">\n <defs>\n  <style type=\"text/css\">\n*{stroke-linecap:butt;stroke-linejoin:round;}\n  </style>\n </defs>\n <g id=\"figure_1\">\n  <g id=\"patch_1\">\n   <path d=\"M 0 348.073437 \nL 347.08625 348.073437 \nL 347.08625 0 \nL 0 0 \nz\n\" style=\"fill:#ffffff;\"/>\n  </g>\n  <g id=\"axes_1\">\n   <g id=\"patch_2\">\n    <path d=\"M 74.30625 304.78 \nL 339.88625 304.78 \nL 339.88625 7.2 \nL 74.30625 7.2 \nz\n\" style=\"fill:#eaeaf2;\"/>\n   </g>\n   <g id=\"matplotlib.axis_1\">\n    <g id=\"xtick_1\">\n     <g id=\"line2d_1\">\n      <path clip-path=\"url(#pa73f3c07b1)\" d=\"M 86.378068 304.78 \nL 86.378068 7.2 \n\" style=\"fill:none;stroke:#ffffff;stroke-linecap:round;\"/>\n     </g>\n     <g id=\"text_1\">\n      <!-- 40 -->\n      <defs>\n       <path d=\"M 37.796875 64.3125 \nL 12.890625 25.390625 \nL 37.796875 25.390625 \nz\nM 35.203125 72.90625 \nL 47.609375 72.90625 \nL 47.609375 25.390625 \nL 58.015625 25.390625 \nL 58.015625 17.1875 \nL 47.609375 17.1875 \nL 47.609375 0 \nL 37.796875 0 \nL 37.796875 17.1875 \nL 4.890625 17.1875 \nL 4.890625 26.703125 \nz\n\" id=\"DejaVuSans-52\"/>\n       <path d=\"M 31.78125 66.40625 \nQ 24.171875 66.40625 20.328125 58.90625 \nQ 16.5 51.421875 16.5 36.375 \nQ 16.5 21.390625 20.328125 13.890625 \nQ 24.171875 6.390625 31.78125 6.390625 \nQ 39.453125 6.390625 43.28125 13.890625 \nQ 47.125 21.390625 47.125 36.375 \nQ 47.125 51.421875 43.28125 58.90625 \nQ 39.453125 66.40625 31.78125 66.40625 \nz\nM 31.78125 74.21875 \nQ 44.046875 74.21875 50.515625 64.515625 \nQ 56.984375 54.828125 56.984375 36.375 \nQ 56.984375 17.96875 50.515625 8.265625 \nQ 44.046875 -1.421875 31.78125 -1.421875 \nQ 19.53125 -1.421875 13.0625 8.265625 \nQ 6.59375 17.96875 6.59375 36.375 \nQ 6.59375 54.828125 13.0625 64.515625 \nQ 19.53125 74.21875 31.78125 74.21875 \nz\n\" id=\"DejaVuSans-48\"/>\n      </defs>\n      <g style=\"fill:#262626;\" transform=\"translate(79.379318 322.638281)scale(0.11 -0.11)\">\n       <use xlink:href=\"#DejaVuSans-52\"/>\n       <use x=\"63.623047\" xlink:href=\"#DejaVuSans-48\"/>\n      </g>\n     </g>\n    </g>\n    <g id=\"xtick_2\">\n     <g id=\"line2d_2\">\n      <path clip-path=\"url(#pa73f3c07b1)\" d=\"M 120.868977 304.78 \nL 120.868977 7.2 \n\" style=\"fill:none;stroke:#ffffff;stroke-linecap:round;\"/>\n     </g>\n     <g id=\"text_2\">\n      <!-- 41 -->\n      <defs>\n       <path d=\"M 12.40625 8.296875 \nL 28.515625 8.296875 \nL 28.515625 63.921875 \nL 10.984375 60.40625 \nL 10.984375 69.390625 \nL 28.421875 72.90625 \nL 38.28125 72.90625 \nL 38.28125 8.296875 \nL 54.390625 8.296875 \nL 54.390625 0 \nL 12.40625 0 \nz\n\" id=\"DejaVuSans-49\"/>\n      </defs>\n      <g style=\"fill:#262626;\" transform=\"translate(113.870227 322.638281)scale(0.11 -0.11)\">\n       <use xlink:href=\"#DejaVuSans-52\"/>\n       <use x=\"63.623047\" xlink:href=\"#DejaVuSans-49\"/>\n      </g>\n     </g>\n    </g>\n    <g id=\"xtick_3\">\n     <g id=\"line2d_3\">\n      <path clip-path=\"url(#pa73f3c07b1)\" d=\"M 155.359886 304.78 \nL 155.359886 7.2 \n\" style=\"fill:none;stroke:#ffffff;stroke-linecap:round;\"/>\n     </g>\n     <g id=\"text_3\">\n      <!-- 42 -->\n      <defs>\n       <path d=\"M 19.1875 8.296875 \nL 53.609375 8.296875 \nL 53.609375 0 \nL 7.328125 0 \nL 7.328125 8.296875 \nQ 12.9375 14.109375 22.625 23.890625 \nQ 32.328125 33.6875 34.8125 36.53125 \nQ 39.546875 41.84375 41.421875 45.53125 \nQ 43.3125 49.21875 43.3125 52.78125 \nQ 43.3125 58.59375 39.234375 62.25 \nQ 35.15625 65.921875 28.609375 65.921875 \nQ 23.96875 65.921875 18.8125 64.3125 \nQ 13.671875 62.703125 7.8125 59.421875 \nL 7.8125 69.390625 \nQ 13.765625 71.78125 18.9375 73 \nQ 24.125 74.21875 28.421875 74.21875 \nQ 39.75 74.21875 46.484375 68.546875 \nQ 53.21875 62.890625 53.21875 53.421875 \nQ 53.21875 48.921875 51.53125 44.890625 \nQ 49.859375 40.875 45.40625 35.40625 \nQ 44.1875 33.984375 37.640625 27.21875 \nQ 31.109375 20.453125 19.1875 8.296875 \nz\n\" id=\"DejaVuSans-50\"/>\n      </defs>\n      <g style=\"fill:#262626;\" transform=\"translate(148.361136 322.638281)scale(0.11 -0.11)\">\n       <use xlink:href=\"#DejaVuSans-52\"/>\n       <use x=\"63.623047\" xlink:href=\"#DejaVuSans-50\"/>\n      </g>\n     </g>\n    </g>\n    <g id=\"xtick_4\">\n     <g id=\"line2d_4\">\n      <path clip-path=\"url(#pa73f3c07b1)\" d=\"M 189.850795 304.78 \nL 189.850795 7.2 \n\" style=\"fill:none;stroke:#ffffff;stroke-linecap:round;\"/>\n     </g>\n     <g id=\"text_4\">\n      <!-- 43 -->\n      <defs>\n       <path d=\"M 40.578125 39.3125 \nQ 47.65625 37.796875 51.625 33 \nQ 55.609375 28.21875 55.609375 21.1875 \nQ 55.609375 10.40625 48.1875 4.484375 \nQ 40.765625 -1.421875 27.09375 -1.421875 \nQ 22.515625 -1.421875 17.65625 -0.515625 \nQ 12.796875 0.390625 7.625 2.203125 \nL 7.625 11.71875 \nQ 11.71875 9.328125 16.59375 8.109375 \nQ 21.484375 6.890625 26.8125 6.890625 \nQ 36.078125 6.890625 40.9375 10.546875 \nQ 45.796875 14.203125 45.796875 21.1875 \nQ 45.796875 27.640625 41.28125 31.265625 \nQ 36.765625 34.90625 28.71875 34.90625 \nL 20.21875 34.90625 \nL 20.21875 43.015625 \nL 29.109375 43.015625 \nQ 36.375 43.015625 40.234375 45.921875 \nQ 44.09375 48.828125 44.09375 54.296875 \nQ 44.09375 59.90625 40.109375 62.90625 \nQ 36.140625 65.921875 28.71875 65.921875 \nQ 24.65625 65.921875 20.015625 65.03125 \nQ 15.375 64.15625 9.8125 62.3125 \nL 9.8125 71.09375 \nQ 15.4375 72.65625 20.34375 73.4375 \nQ 25.25 74.21875 29.59375 74.21875 \nQ 40.828125 74.21875 47.359375 69.109375 \nQ 53.90625 64.015625 53.90625 55.328125 \nQ 53.90625 49.265625 50.4375 45.09375 \nQ 46.96875 40.921875 40.578125 39.3125 \nz\n\" id=\"DejaVuSans-51\"/>\n      </defs>\n      <g style=\"fill:#262626;\" transform=\"translate(182.852045 322.638281)scale(0.11 -0.11)\">\n       <use xlink:href=\"#DejaVuSans-52\"/>\n       <use x=\"63.623047\" xlink:href=\"#DejaVuSans-51\"/>\n      </g>\n     </g>\n    </g>\n    <g id=\"xtick_5\">\n     <g id=\"line2d_5\">\n      <path clip-path=\"url(#pa73f3c07b1)\" d=\"M 224.341705 304.78 \nL 224.341705 7.2 \n\" style=\"fill:none;stroke:#ffffff;stroke-linecap:round;\"/>\n     </g>\n     <g id=\"text_5\">\n      <!-- 44 -->\n      <g style=\"fill:#262626;\" transform=\"translate(217.342955 322.638281)scale(0.11 -0.11)\">\n       <use xlink:href=\"#DejaVuSans-52\"/>\n       <use x=\"63.623047\" xlink:href=\"#DejaVuSans-52\"/>\n      </g>\n     </g>\n    </g>\n    <g id=\"xtick_6\">\n     <g id=\"line2d_6\">\n      <path clip-path=\"url(#pa73f3c07b1)\" d=\"M 258.832614 304.78 \nL 258.832614 7.2 \n\" style=\"fill:none;stroke:#ffffff;stroke-linecap:round;\"/>\n     </g>\n     <g id=\"text_6\">\n      <!-- 45 -->\n      <defs>\n       <path d=\"M 10.796875 72.90625 \nL 49.515625 72.90625 \nL 49.515625 64.59375 \nL 19.828125 64.59375 \nL 19.828125 46.734375 \nQ 21.96875 47.46875 24.109375 47.828125 \nQ 26.265625 48.1875 28.421875 48.1875 \nQ 40.625 48.1875 47.75 41.5 \nQ 54.890625 34.8125 54.890625 23.390625 \nQ 54.890625 11.625 47.5625 5.09375 \nQ 40.234375 -1.421875 26.90625 -1.421875 \nQ 22.3125 -1.421875 17.546875 -0.640625 \nQ 12.796875 0.140625 7.71875 1.703125 \nL 7.71875 11.625 \nQ 12.109375 9.234375 16.796875 8.0625 \nQ 21.484375 6.890625 26.703125 6.890625 \nQ 35.15625 6.890625 40.078125 11.328125 \nQ 45.015625 15.765625 45.015625 23.390625 \nQ 45.015625 31 40.078125 35.4375 \nQ 35.15625 39.890625 26.703125 39.890625 \nQ 22.75 39.890625 18.8125 39.015625 \nQ 14.890625 38.140625 10.796875 36.28125 \nz\n\" id=\"DejaVuSans-53\"/>\n      </defs>\n      <g style=\"fill:#262626;\" transform=\"translate(251.833864 322.638281)scale(0.11 -0.11)\">\n       <use xlink:href=\"#DejaVuSans-52\"/>\n       <use x=\"63.623047\" xlink:href=\"#DejaVuSans-53\"/>\n      </g>\n     </g>\n    </g>\n    <g id=\"xtick_7\">\n     <g id=\"line2d_7\">\n      <path clip-path=\"url(#pa73f3c07b1)\" d=\"M 293.323523 304.78 \nL 293.323523 7.2 \n\" style=\"fill:none;stroke:#ffffff;stroke-linecap:round;\"/>\n     </g>\n     <g id=\"text_7\">\n      <!-- 46 -->\n      <defs>\n       <path d=\"M 33.015625 40.375 \nQ 26.375 40.375 22.484375 35.828125 \nQ 18.609375 31.296875 18.609375 23.390625 \nQ 18.609375 15.53125 22.484375 10.953125 \nQ 26.375 6.390625 33.015625 6.390625 \nQ 39.65625 6.390625 43.53125 10.953125 \nQ 47.40625 15.53125 47.40625 23.390625 \nQ 47.40625 31.296875 43.53125 35.828125 \nQ 39.65625 40.375 33.015625 40.375 \nz\nM 52.59375 71.296875 \nL 52.59375 62.3125 \nQ 48.875 64.0625 45.09375 64.984375 \nQ 41.3125 65.921875 37.59375 65.921875 \nQ 27.828125 65.921875 22.671875 59.328125 \nQ 17.53125 52.734375 16.796875 39.40625 \nQ 19.671875 43.65625 24.015625 45.921875 \nQ 28.375 48.1875 33.59375 48.1875 \nQ 44.578125 48.1875 50.953125 41.515625 \nQ 57.328125 34.859375 57.328125 23.390625 \nQ 57.328125 12.15625 50.6875 5.359375 \nQ 44.046875 -1.421875 33.015625 -1.421875 \nQ 20.359375 -1.421875 13.671875 8.265625 \nQ 6.984375 17.96875 6.984375 36.375 \nQ 6.984375 53.65625 15.1875 63.9375 \nQ 23.390625 74.21875 37.203125 74.21875 \nQ 40.921875 74.21875 44.703125 73.484375 \nQ 48.484375 72.75 52.59375 71.296875 \nz\n\" id=\"DejaVuSans-54\"/>\n      </defs>\n      <g style=\"fill:#262626;\" transform=\"translate(286.324773 322.638281)scale(0.11 -0.11)\">\n       <use xlink:href=\"#DejaVuSans-52\"/>\n       <use x=\"63.623047\" xlink:href=\"#DejaVuSans-54\"/>\n      </g>\n     </g>\n    </g>\n    <g id=\"xtick_8\">\n     <g id=\"line2d_8\">\n      <path clip-path=\"url(#pa73f3c07b1)\" d=\"M 327.814432 304.78 \nL 327.814432 7.2 \n\" style=\"fill:none;stroke:#ffffff;stroke-linecap:round;\"/>\n     </g>\n     <g id=\"text_8\">\n      <!-- 47 -->\n      <defs>\n       <path d=\"M 8.203125 72.90625 \nL 55.078125 72.90625 \nL 55.078125 68.703125 \nL 28.609375 0 \nL 18.3125 0 \nL 43.21875 64.59375 \nL 8.203125 64.59375 \nz\n\" id=\"DejaVuSans-55\"/>\n      </defs>\n      <g style=\"fill:#262626;\" transform=\"translate(320.815682 322.638281)scale(0.11 -0.11)\">\n       <use xlink:href=\"#DejaVuSans-52\"/>\n       <use x=\"63.623047\" xlink:href=\"#DejaVuSans-55\"/>\n      </g>\n     </g>\n    </g>\n    <g id=\"text_9\">\n     <!-- Sequence_length -->\n     <defs>\n      <path d=\"M 53.515625 70.515625 \nL 53.515625 60.890625 \nQ 47.90625 63.578125 42.921875 64.890625 \nQ 37.9375 66.21875 33.296875 66.21875 \nQ 25.25 66.21875 20.875 63.09375 \nQ 16.5 59.96875 16.5 54.203125 \nQ 16.5 49.359375 19.40625 46.890625 \nQ 22.3125 44.4375 30.421875 42.921875 \nL 36.375 41.703125 \nQ 47.40625 39.59375 52.65625 34.296875 \nQ 57.90625 29 57.90625 20.125 \nQ 57.90625 9.515625 50.796875 4.046875 \nQ 43.703125 -1.421875 29.984375 -1.421875 \nQ 24.8125 -1.421875 18.96875 -0.25 \nQ 13.140625 0.921875 6.890625 3.21875 \nL 6.890625 13.375 \nQ 12.890625 10.015625 18.65625 8.296875 \nQ 24.421875 6.59375 29.984375 6.59375 \nQ 38.421875 6.59375 43.015625 9.90625 \nQ 47.609375 13.234375 47.609375 19.390625 \nQ 47.609375 24.75 44.3125 27.78125 \nQ 41.015625 30.8125 33.5 32.328125 \nL 27.484375 33.5 \nQ 16.453125 35.6875 11.515625 40.375 \nQ 6.59375 45.0625 6.59375 53.421875 \nQ 6.59375 63.09375 13.40625 68.65625 \nQ 20.21875 74.21875 32.171875 74.21875 \nQ 37.3125 74.21875 42.625 73.28125 \nQ 47.953125 72.359375 53.515625 70.515625 \nz\n\" id=\"DejaVuSans-83\"/>\n      <path d=\"M 56.203125 29.59375 \nL 56.203125 25.203125 \nL 14.890625 25.203125 \nQ 15.484375 15.921875 20.484375 11.0625 \nQ 25.484375 6.203125 34.421875 6.203125 \nQ 39.59375 6.203125 44.453125 7.46875 \nQ 49.3125 8.734375 54.109375 11.28125 \nL 54.109375 2.78125 \nQ 49.265625 0.734375 44.1875 -0.34375 \nQ 39.109375 -1.421875 33.890625 -1.421875 \nQ 20.796875 -1.421875 13.15625 6.1875 \nQ 5.515625 13.8125 5.515625 26.8125 \nQ 5.515625 40.234375 12.765625 48.109375 \nQ 20.015625 56 32.328125 56 \nQ 43.359375 56 49.78125 48.890625 \nQ 56.203125 41.796875 56.203125 29.59375 \nz\nM 47.21875 32.234375 \nQ 47.125 39.59375 43.09375 43.984375 \nQ 39.0625 48.390625 32.421875 48.390625 \nQ 24.90625 48.390625 20.390625 44.140625 \nQ 15.875 39.890625 15.1875 32.171875 \nz\n\" id=\"DejaVuSans-101\"/>\n      <path d=\"M 14.796875 27.296875 \nQ 14.796875 17.390625 18.875 11.75 \nQ 22.953125 6.109375 30.078125 6.109375 \nQ 37.203125 6.109375 41.296875 11.75 \nQ 45.40625 17.390625 45.40625 27.296875 \nQ 45.40625 37.203125 41.296875 42.84375 \nQ 37.203125 48.484375 30.078125 48.484375 \nQ 22.953125 48.484375 18.875 42.84375 \nQ 14.796875 37.203125 14.796875 27.296875 \nz\nM 45.40625 8.203125 \nQ 42.578125 3.328125 38.25 0.953125 \nQ 33.9375 -1.421875 27.875 -1.421875 \nQ 17.96875 -1.421875 11.734375 6.484375 \nQ 5.515625 14.40625 5.515625 27.296875 \nQ 5.515625 40.1875 11.734375 48.09375 \nQ 17.96875 56 27.875 56 \nQ 33.9375 56 38.25 53.625 \nQ 42.578125 51.265625 45.40625 46.390625 \nL 45.40625 54.6875 \nL 54.390625 54.6875 \nL 54.390625 -20.796875 \nL 45.40625 -20.796875 \nz\n\" id=\"DejaVuSans-113\"/>\n      <path d=\"M 8.5 21.578125 \nL 8.5 54.6875 \nL 17.484375 54.6875 \nL 17.484375 21.921875 \nQ 17.484375 14.15625 20.5 10.265625 \nQ 23.53125 6.390625 29.59375 6.390625 \nQ 36.859375 6.390625 41.078125 11.03125 \nQ 45.3125 15.671875 45.3125 23.6875 \nL 45.3125 54.6875 \nL 54.296875 54.6875 \nL 54.296875 0 \nL 45.3125 0 \nL 45.3125 8.40625 \nQ 42.046875 3.421875 37.71875 1 \nQ 33.40625 -1.421875 27.6875 -1.421875 \nQ 18.265625 -1.421875 13.375 4.4375 \nQ 8.5 10.296875 8.5 21.578125 \nz\nM 31.109375 56 \nz\n\" id=\"DejaVuSans-117\"/>\n      <path d=\"M 54.890625 33.015625 \nL 54.890625 0 \nL 45.90625 0 \nL 45.90625 32.71875 \nQ 45.90625 40.484375 42.875 44.328125 \nQ 39.84375 48.1875 33.796875 48.1875 \nQ 26.515625 48.1875 22.3125 43.546875 \nQ 18.109375 38.921875 18.109375 30.90625 \nL 18.109375 0 \nL 9.078125 0 \nL 9.078125 54.6875 \nL 18.109375 54.6875 \nL 18.109375 46.1875 \nQ 21.34375 51.125 25.703125 53.5625 \nQ 30.078125 56 35.796875 56 \nQ 45.21875 56 50.046875 50.171875 \nQ 54.890625 44.34375 54.890625 33.015625 \nz\n\" id=\"DejaVuSans-110\"/>\n      <path d=\"M 48.78125 52.59375 \nL 48.78125 44.1875 \nQ 44.96875 46.296875 41.140625 47.34375 \nQ 37.3125 48.390625 33.40625 48.390625 \nQ 24.65625 48.390625 19.8125 42.84375 \nQ 14.984375 37.3125 14.984375 27.296875 \nQ 14.984375 17.28125 19.8125 11.734375 \nQ 24.65625 6.203125 33.40625 6.203125 \nQ 37.3125 6.203125 41.140625 7.25 \nQ 44.96875 8.296875 48.78125 10.40625 \nL 48.78125 2.09375 \nQ 45.015625 0.34375 40.984375 -0.53125 \nQ 36.96875 -1.421875 32.421875 -1.421875 \nQ 20.0625 -1.421875 12.78125 6.34375 \nQ 5.515625 14.109375 5.515625 27.296875 \nQ 5.515625 40.671875 12.859375 48.328125 \nQ 20.21875 56 33.015625 56 \nQ 37.15625 56 41.109375 55.140625 \nQ 45.0625 54.296875 48.78125 52.59375 \nz\n\" id=\"DejaVuSans-99\"/>\n      <path d=\"M 50.984375 -16.609375 \nL 50.984375 -23.578125 \nL -0.984375 -23.578125 \nL -0.984375 -16.609375 \nz\n\" id=\"DejaVuSans-95\"/>\n      <path d=\"M 9.421875 75.984375 \nL 18.40625 75.984375 \nL 18.40625 0 \nL 9.421875 0 \nz\n\" id=\"DejaVuSans-108\"/>\n      <path d=\"M 45.40625 27.984375 \nQ 45.40625 37.75 41.375 43.109375 \nQ 37.359375 48.484375 30.078125 48.484375 \nQ 22.859375 48.484375 18.828125 43.109375 \nQ 14.796875 37.75 14.796875 27.984375 \nQ 14.796875 18.265625 18.828125 12.890625 \nQ 22.859375 7.515625 30.078125 7.515625 \nQ 37.359375 7.515625 41.375 12.890625 \nQ 45.40625 18.265625 45.40625 27.984375 \nz\nM 54.390625 6.78125 \nQ 54.390625 -7.171875 48.1875 -13.984375 \nQ 42 -20.796875 29.203125 -20.796875 \nQ 24.46875 -20.796875 20.265625 -20.09375 \nQ 16.0625 -19.390625 12.109375 -17.921875 \nL 12.109375 -9.1875 \nQ 16.0625 -11.328125 19.921875 -12.34375 \nQ 23.78125 -13.375 27.78125 -13.375 \nQ 36.625 -13.375 41.015625 -8.765625 \nQ 45.40625 -4.15625 45.40625 5.171875 \nL 45.40625 9.625 \nQ 42.625 4.78125 38.28125 2.390625 \nQ 33.9375 0 27.875 0 \nQ 17.828125 0 11.671875 7.65625 \nQ 5.515625 15.328125 5.515625 27.984375 \nQ 5.515625 40.671875 11.671875 48.328125 \nQ 17.828125 56 27.875 56 \nQ 33.9375 56 38.28125 53.609375 \nQ 42.625 51.21875 45.40625 46.390625 \nL 45.40625 54.6875 \nL 54.390625 54.6875 \nz\n\" id=\"DejaVuSans-103\"/>\n      <path d=\"M 18.3125 70.21875 \nL 18.3125 54.6875 \nL 36.8125 54.6875 \nL 36.8125 47.703125 \nL 18.3125 47.703125 \nL 18.3125 18.015625 \nQ 18.3125 11.328125 20.140625 9.421875 \nQ 21.96875 7.515625 27.59375 7.515625 \nL 36.8125 7.515625 \nL 36.8125 0 \nL 27.59375 0 \nQ 17.1875 0 13.234375 3.875 \nQ 9.28125 7.765625 9.28125 18.015625 \nL 9.28125 47.703125 \nL 2.6875 47.703125 \nL 2.6875 54.6875 \nL 9.28125 54.6875 \nL 9.28125 70.21875 \nz\n\" id=\"DejaVuSans-116\"/>\n      <path d=\"M 54.890625 33.015625 \nL 54.890625 0 \nL 45.90625 0 \nL 45.90625 32.71875 \nQ 45.90625 40.484375 42.875 44.328125 \nQ 39.84375 48.1875 33.796875 48.1875 \nQ 26.515625 48.1875 22.3125 43.546875 \nQ 18.109375 38.921875 18.109375 30.90625 \nL 18.109375 0 \nL 9.078125 0 \nL 9.078125 75.984375 \nL 18.109375 75.984375 \nL 18.109375 46.1875 \nQ 21.34375 51.125 25.703125 53.5625 \nQ 30.078125 56 35.796875 56 \nQ 45.21875 56 50.046875 50.171875 \nQ 54.890625 44.34375 54.890625 33.015625 \nz\n\" id=\"DejaVuSans-104\"/>\n     </defs>\n     <g style=\"fill:#262626;\" transform=\"translate(155.373437 338.044062)scale(0.12 -0.12)\">\n      <use xlink:href=\"#DejaVuSans-83\"/>\n      <use x=\"63.476562\" xlink:href=\"#DejaVuSans-101\"/>\n      <use x=\"125\" xlink:href=\"#DejaVuSans-113\"/>\n      <use x=\"188.476562\" xlink:href=\"#DejaVuSans-117\"/>\n      <use x=\"251.855469\" xlink:href=\"#DejaVuSans-101\"/>\n      <use x=\"313.378906\" xlink:href=\"#DejaVuSans-110\"/>\n      <use x=\"376.757812\" xlink:href=\"#DejaVuSans-99\"/>\n      <use x=\"431.738281\" xlink:href=\"#DejaVuSans-101\"/>\n      <use x=\"493.261719\" xlink:href=\"#DejaVuSans-95\"/>\n      <use x=\"543.261719\" xlink:href=\"#DejaVuSans-108\"/>\n      <use x=\"571.044922\" xlink:href=\"#DejaVuSans-101\"/>\n      <use x=\"632.568359\" xlink:href=\"#DejaVuSans-110\"/>\n      <use x=\"695.947266\" xlink:href=\"#DejaVuSans-103\"/>\n      <use x=\"759.423828\" xlink:href=\"#DejaVuSans-116\"/>\n      <use x=\"798.632812\" xlink:href=\"#DejaVuSans-104\"/>\n     </g>\n    </g>\n   </g>\n   <g id=\"matplotlib.axis_2\">\n    <g id=\"ytick_1\">\n     <g id=\"line2d_9\">\n      <path clip-path=\"url(#pa73f3c07b1)\" d=\"M 74.30625 304.78 \nL 339.88625 304.78 \n\" style=\"fill:none;stroke:#ffffff;stroke-linecap:round;\"/>\n     </g>\n     <g id=\"text_10\">\n      <!-- 0 -->\n      <g style=\"fill:#262626;\" transform=\"translate(57.8075 308.959141)scale(0.11 -0.11)\">\n       <use xlink:href=\"#DejaVuSans-48\"/>\n      </g>\n     </g>\n    </g>\n    <g id=\"ytick_2\">\n     <g id=\"line2d_10\">\n      <path clip-path=\"url(#pa73f3c07b1)\" d=\"M 74.30625 264.577107 \nL 339.88625 264.577107 \n\" style=\"fill:none;stroke:#ffffff;stroke-linecap:round;\"/>\n     </g>\n     <g id=\"text_11\">\n      <!-- 25000 -->\n      <g style=\"fill:#262626;\" transform=\"translate(29.8125 268.756248)scale(0.11 -0.11)\">\n       <use xlink:href=\"#DejaVuSans-50\"/>\n       <use x=\"63.623047\" xlink:href=\"#DejaVuSans-53\"/>\n       <use x=\"127.246094\" xlink:href=\"#DejaVuSans-48\"/>\n       <use x=\"190.869141\" xlink:href=\"#DejaVuSans-48\"/>\n       <use x=\"254.492188\" xlink:href=\"#DejaVuSans-48\"/>\n      </g>\n     </g>\n    </g>\n    <g id=\"ytick_3\">\n     <g id=\"line2d_11\">\n      <path clip-path=\"url(#pa73f3c07b1)\" d=\"M 74.30625 224.374214 \nL 339.88625 224.374214 \n\" style=\"fill:none;stroke:#ffffff;stroke-linecap:round;\"/>\n     </g>\n     <g id=\"text_12\">\n      <!-- 50000 -->\n      <g style=\"fill:#262626;\" transform=\"translate(29.8125 228.553355)scale(0.11 -0.11)\">\n       <use xlink:href=\"#DejaVuSans-53\"/>\n       <use x=\"63.623047\" xlink:href=\"#DejaVuSans-48\"/>\n       <use x=\"127.246094\" xlink:href=\"#DejaVuSans-48\"/>\n       <use x=\"190.869141\" xlink:href=\"#DejaVuSans-48\"/>\n       <use x=\"254.492188\" xlink:href=\"#DejaVuSans-48\"/>\n      </g>\n     </g>\n    </g>\n    <g id=\"ytick_4\">\n     <g id=\"line2d_12\">\n      <path clip-path=\"url(#pa73f3c07b1)\" d=\"M 74.30625 184.171322 \nL 339.88625 184.171322 \n\" style=\"fill:none;stroke:#ffffff;stroke-linecap:round;\"/>\n     </g>\n     <g id=\"text_13\">\n      <!-- 75000 -->\n      <g style=\"fill:#262626;\" transform=\"translate(29.8125 188.350462)scale(0.11 -0.11)\">\n       <use xlink:href=\"#DejaVuSans-55\"/>\n       <use x=\"63.623047\" xlink:href=\"#DejaVuSans-53\"/>\n       <use x=\"127.246094\" xlink:href=\"#DejaVuSans-48\"/>\n       <use x=\"190.869141\" xlink:href=\"#DejaVuSans-48\"/>\n       <use x=\"254.492188\" xlink:href=\"#DejaVuSans-48\"/>\n      </g>\n     </g>\n    </g>\n    <g id=\"ytick_5\">\n     <g id=\"line2d_13\">\n      <path clip-path=\"url(#pa73f3c07b1)\" d=\"M 74.30625 143.968429 \nL 339.88625 143.968429 \n\" style=\"fill:none;stroke:#ffffff;stroke-linecap:round;\"/>\n     </g>\n     <g id=\"text_14\">\n      <!-- 100000 -->\n      <g style=\"fill:#262626;\" transform=\"translate(22.81375 148.14757)scale(0.11 -0.11)\">\n       <use xlink:href=\"#DejaVuSans-49\"/>\n       <use x=\"63.623047\" xlink:href=\"#DejaVuSans-48\"/>\n       <use x=\"127.246094\" xlink:href=\"#DejaVuSans-48\"/>\n       <use x=\"190.869141\" xlink:href=\"#DejaVuSans-48\"/>\n       <use x=\"254.492188\" xlink:href=\"#DejaVuSans-48\"/>\n       <use x=\"318.115234\" xlink:href=\"#DejaVuSans-48\"/>\n      </g>\n     </g>\n    </g>\n    <g id=\"ytick_6\">\n     <g id=\"line2d_14\">\n      <path clip-path=\"url(#pa73f3c07b1)\" d=\"M 74.30625 103.765536 \nL 339.88625 103.765536 \n\" style=\"fill:none;stroke:#ffffff;stroke-linecap:round;\"/>\n     </g>\n     <g id=\"text_15\">\n      <!-- 125000 -->\n      <g style=\"fill:#262626;\" transform=\"translate(22.81375 107.944677)scale(0.11 -0.11)\">\n       <use xlink:href=\"#DejaVuSans-49\"/>\n       <use x=\"63.623047\" xlink:href=\"#DejaVuSans-50\"/>\n       <use x=\"127.246094\" xlink:href=\"#DejaVuSans-53\"/>\n       <use x=\"190.869141\" xlink:href=\"#DejaVuSans-48\"/>\n       <use x=\"254.492188\" xlink:href=\"#DejaVuSans-48\"/>\n       <use x=\"318.115234\" xlink:href=\"#DejaVuSans-48\"/>\n      </g>\n     </g>\n    </g>\n    <g id=\"ytick_7\">\n     <g id=\"line2d_15\">\n      <path clip-path=\"url(#pa73f3c07b1)\" d=\"M 74.30625 63.562643 \nL 339.88625 63.562643 \n\" style=\"fill:none;stroke:#ffffff;stroke-linecap:round;\"/>\n     </g>\n     <g id=\"text_16\">\n      <!-- 150000 -->\n      <g style=\"fill:#262626;\" transform=\"translate(22.81375 67.741784)scale(0.11 -0.11)\">\n       <use xlink:href=\"#DejaVuSans-49\"/>\n       <use x=\"63.623047\" xlink:href=\"#DejaVuSans-53\"/>\n       <use x=\"127.246094\" xlink:href=\"#DejaVuSans-48\"/>\n       <use x=\"190.869141\" xlink:href=\"#DejaVuSans-48\"/>\n       <use x=\"254.492188\" xlink:href=\"#DejaVuSans-48\"/>\n       <use x=\"318.115234\" xlink:href=\"#DejaVuSans-48\"/>\n      </g>\n     </g>\n    </g>\n    <g id=\"ytick_8\">\n     <g id=\"line2d_16\">\n      <path clip-path=\"url(#pa73f3c07b1)\" d=\"M 74.30625 23.359751 \nL 339.88625 23.359751 \n\" style=\"fill:none;stroke:#ffffff;stroke-linecap:round;\"/>\n     </g>\n     <g id=\"text_17\">\n      <!-- 175000 -->\n      <g style=\"fill:#262626;\" transform=\"translate(22.81375 27.538891)scale(0.11 -0.11)\">\n       <use xlink:href=\"#DejaVuSans-49\"/>\n       <use x=\"63.623047\" xlink:href=\"#DejaVuSans-55\"/>\n       <use x=\"127.246094\" xlink:href=\"#DejaVuSans-53\"/>\n       <use x=\"190.869141\" xlink:href=\"#DejaVuSans-48\"/>\n       <use x=\"254.492188\" xlink:href=\"#DejaVuSans-48\"/>\n       <use x=\"318.115234\" xlink:href=\"#DejaVuSans-48\"/>\n      </g>\n     </g>\n    </g>\n    <g id=\"text_18\">\n     <!-- Count -->\n     <defs>\n      <path d=\"M 64.40625 67.28125 \nL 64.40625 56.890625 \nQ 59.421875 61.53125 53.78125 63.8125 \nQ 48.140625 66.109375 41.796875 66.109375 \nQ 29.296875 66.109375 22.65625 58.46875 \nQ 16.015625 50.828125 16.015625 36.375 \nQ 16.015625 21.96875 22.65625 14.328125 \nQ 29.296875 6.6875 41.796875 6.6875 \nQ 48.140625 6.6875 53.78125 8.984375 \nQ 59.421875 11.28125 64.40625 15.921875 \nL 64.40625 5.609375 \nQ 59.234375 2.09375 53.4375 0.328125 \nQ 47.65625 -1.421875 41.21875 -1.421875 \nQ 24.65625 -1.421875 15.125 8.703125 \nQ 5.609375 18.84375 5.609375 36.375 \nQ 5.609375 53.953125 15.125 64.078125 \nQ 24.65625 74.21875 41.21875 74.21875 \nQ 47.75 74.21875 53.53125 72.484375 \nQ 59.328125 70.75 64.40625 67.28125 \nz\n\" id=\"DejaVuSans-67\"/>\n      <path d=\"M 30.609375 48.390625 \nQ 23.390625 48.390625 19.1875 42.75 \nQ 14.984375 37.109375 14.984375 27.296875 \nQ 14.984375 17.484375 19.15625 11.84375 \nQ 23.34375 6.203125 30.609375 6.203125 \nQ 37.796875 6.203125 41.984375 11.859375 \nQ 46.1875 17.53125 46.1875 27.296875 \nQ 46.1875 37.015625 41.984375 42.703125 \nQ 37.796875 48.390625 30.609375 48.390625 \nz\nM 30.609375 56 \nQ 42.328125 56 49.015625 48.375 \nQ 55.71875 40.765625 55.71875 27.296875 \nQ 55.71875 13.875 49.015625 6.21875 \nQ 42.328125 -1.421875 30.609375 -1.421875 \nQ 18.84375 -1.421875 12.171875 6.21875 \nQ 5.515625 13.875 5.515625 27.296875 \nQ 5.515625 40.765625 12.171875 48.375 \nQ 18.84375 56 30.609375 56 \nz\n\" id=\"DejaVuSans-111\"/>\n     </defs>\n     <g style=\"fill:#262626;\" transform=\"translate(16.318125 173.808125)rotate(-90)scale(0.12 -0.12)\">\n      <use xlink:href=\"#DejaVuSans-67\"/>\n      <use x=\"69.824219\" xlink:href=\"#DejaVuSans-111\"/>\n      <use x=\"131.005859\" xlink:href=\"#DejaVuSans-117\"/>\n      <use x=\"194.384766\" xlink:href=\"#DejaVuSans-110\"/>\n      <use x=\"257.763672\" xlink:href=\"#DejaVuSans-116\"/>\n     </g>\n    </g>\n   </g>\n   <g id=\"patch_3\">\n    <path clip-path=\"url(#pa73f3c07b1)\" d=\"M 86.378068 304.78 \nL 120.868977 304.78 \nL 120.868977 303.647887 \nL 86.378068 303.647887 \nz\n\" style=\"fill:#4c72b0;fill-opacity:0.5;stroke:#ffffff;stroke-linejoin:miter;\"/>\n   </g>\n   <g id=\"patch_4\">\n    <path clip-path=\"url(#pa73f3c07b1)\" d=\"M 120.868977 304.78 \nL 155.359886 304.78 \nL 155.359886 301.134402 \nL 120.868977 301.134402 \nz\n\" style=\"fill:#4c72b0;fill-opacity:0.5;stroke:#ffffff;stroke-linejoin:miter;\"/>\n   </g>\n   <g id=\"patch_5\">\n    <path clip-path=\"url(#pa73f3c07b1)\" d=\"M 155.359886 304.78 \nL 189.850795 304.78 \nL 189.850795 265.480868 \nL 155.359886 265.480868 \nz\n\" style=\"fill:#4c72b0;fill-opacity:0.5;stroke:#ffffff;stroke-linejoin:miter;\"/>\n   </g>\n   <g id=\"patch_6\">\n    <path clip-path=\"url(#pa73f3c07b1)\" d=\"M 189.850795 304.78 \nL 224.341705 304.78 \nL 224.341705 304.604715 \nL 189.850795 304.604715 \nz\n\" style=\"fill:#4c72b0;fill-opacity:0.5;stroke:#ffffff;stroke-linejoin:miter;\"/>\n   </g>\n   <g id=\"patch_7\">\n    <path clip-path=\"url(#pa73f3c07b1)\" d=\"M 224.341705 304.78 \nL 258.832614 304.78 \nL 258.832614 304.757486 \nL 224.341705 304.757486 \nz\n\" style=\"fill:#4c72b0;fill-opacity:0.5;stroke:#ffffff;stroke-linejoin:miter;\"/>\n   </g>\n   <g id=\"patch_8\">\n    <path clip-path=\"url(#pa73f3c07b1)\" d=\"M 258.832614 304.78 \nL 293.323523 304.78 \nL 293.323523 304.773568 \nL 258.832614 304.773568 \nz\n\" style=\"fill:#4c72b0;fill-opacity:0.5;stroke:#ffffff;stroke-linejoin:miter;\"/>\n   </g>\n   <g id=\"patch_9\">\n    <path clip-path=\"url(#pa73f3c07b1)\" d=\"M 293.323523 304.78 \nL 327.814432 304.78 \nL 327.814432 304.770351 \nL 293.323523 304.770351 \nz\n\" style=\"fill:#4c72b0;fill-opacity:0.5;stroke:#ffffff;stroke-linejoin:miter;\"/>\n   </g>\n   <g id=\"line2d_17\">\n    <path clip-path=\"url(#pa73f3c07b1)\" d=\"M 86.378068 296.581617 \nL 87.591316 298.093542 \nL 88.804564 301.152563 \nL 90.017812 303.471 \nL 91.23106 304.465794 \nL 92.444308 304.729832 \nL 96.084053 304.779982 \nL 114.282774 304.715044 \nL 115.496022 304.295499 \nL 116.70927 302.376171 \nL 117.922518 296.846798 \nL 119.135766 287.364764 \nL 120.349014 279.350016 \nL 121.562262 280.079904 \nL 123.988758 297.921781 \nL 125.202006 302.819479 \nL 126.415254 304.407207 \nL 127.628502 304.732848 \nL 131.268246 304.779992 \nL 147.040471 304.760438 \nL 148.253719 304.518766 \nL 149.466967 302.459471 \nL 150.680215 291.068632 \nL 151.893463 250.889723 \nL 153.106711 163.891384 \nL 154.319959 59.773704 \nL 155.533208 21.370476 \nL 156.746456 86.714235 \nL 157.959704 193.171726 \nL 159.172952 266.783714 \nL 160.3862 296.175577 \nL 161.599448 303.483901 \nL 162.812696 304.650135 \nL 164.025944 304.771345 \nL 181.011417 304.779975 \nL 184.651161 304.749975 \nL 185.864409 304.639461 \nL 187.077657 304.34243 \nL 188.290905 303.873781 \nL 189.504153 303.531597 \nL 190.717401 303.636035 \nL 193.143897 304.497294 \nL 194.357145 304.703757 \nL 196.783642 304.778368 \nL 221.048603 304.743689 \nL 224.688347 304.619655 \nL 231.967835 304.779948 \nL 327.814432 304.710127 \nL 327.814432 304.710127 \n\" style=\"fill:none;stroke:#4c72b0;stroke-linecap:round;stroke-width:1.5;\"/>\n   </g>\n   <g id=\"patch_10\">\n    <path d=\"M 74.30625 304.78 \nL 74.30625 7.2 \n\" style=\"fill:none;stroke:#ffffff;stroke-linecap:square;stroke-linejoin:miter;stroke-width:1.25;\"/>\n   </g>\n   <g id=\"patch_11\">\n    <path d=\"M 74.30625 304.78 \nL 339.88625 304.78 \n\" style=\"fill:none;stroke:#ffffff;stroke-linecap:square;stroke-linejoin:miter;stroke-width:1.25;\"/>\n   </g>\n  </g>\n </g>\n <defs>\n  <clipPath id=\"pa73f3c07b1\">\n   <rect height=\"297.58\" width=\"265.58\" x=\"74.30625\" y=\"7.2\"/>\n  </clipPath>\n </defs>\n</svg>\n",
      "text/plain": [
       "<Figure size 360x360 with 1 Axes>"
      ]
     },
     "metadata": {},
     "output_type": "display_data"
    }
   ],
   "source": [
    "# Double check the filtering by passing the output from 'size_filter' \n",
    "# function back to the len_distro function. \n",
    "\n",
    "len_distro(f'output/{date}_KRAB_PFAM_size_filt.fasta', 1)"
   ]
  },
  {
   "cell_type": "code",
   "execution_count": 6,
   "metadata": {},
   "outputs": [
    {
     "name": "stdout",
     "output_type": "stream",
     "text": [
      "Percent compelete: [##------------------] 9.07%  Estimated time left 165.79 min IndexError: Annotation doesn't match expected format\n",
      "Last annotation was:\n",
      "Accession: \n",
      "Sequence number : 2497\n",
      "Percent compelete: [####################] 100.00%  Estimated time left 0.01 min Run time: 2:56:42 hh:mm:ss\n",
      "Annotations were retrieved or attempted for 27541 sequences from output/211119_KRAB_PFAM_size_filt.fasta and outputted to 'output/211119_KRAB_PFAM_filt_annotations.txt'\n"
     ]
    }
   ],
   "source": [
    "# This function pulls back the UniProt annotations for the sequences \n",
    "# filtered by size. Takes 3 arguments, the input file, the data source\n",
    "# and the project name. Generates a text file in tab seperated csv format\n",
    "\n",
    "# This function takes a very long time to run, each sequence must be \n",
    "# individually passed back to the served and then wait for the reply, \n",
    "# sequentially. \n",
    "\n",
    "input_f = f'output/{date}_KRAB_PFAM_size_filt.fasta'\n",
    "\n",
    "annotations(input_f, 'PFAM', PROJECT, delim=\"_\", el_num=0)"
   ]
  },
  {
   "cell_type": "code",
   "execution_count": 3,
   "metadata": {},
   "outputs": [
    {
     "name": "stdout",
     "output_type": "stream",
     "text": [
      "Master index containing annotation and sequence data created with 0 records.\n",
      "Outputtted file called 'KRAB/output/211207_PFAM_master_index.csv'\n"
     ]
    }
   ],
   "source": [
    "# This indexing function takes the annotation file generated above and \n",
    "# the last generated fasta file then adds the sequence to the annotations\n",
    "# and generates a 'master index' csv file. This can act a reference going \n",
    "# forward and a repository of un-edited sequences.\n",
    "\n",
    "# The function takes 3 arguments, the annotation text file generated from \n",
    "# the annotations function, a related fasta file, and the project name. \n",
    "\n",
    "# The function works by merging pandas dataframes as 'inner' on the 'Entry'\n",
    "# name, so if a sequence Entry name is missing from the annotation file\n",
    "# that sequence is lost.\n",
    "\n",
    "annotation_file = f'{PROJECT}/output/{date}_PFAM_filt_annotations.txt'\n",
    "sequence_file = f'{PROJECT}/output/{date}_PFAM_size_filt.fasta'\n",
    "\n",
    "indexing(annotation_file, sequence_file, PROJECT, delim=\"_\", el_num=0)"
   ]
  },
  {
   "cell_type": "code",
   "execution_count": 5,
   "metadata": {},
   "outputs": [
    {
     "ename": "KeyError",
     "evalue": "'Protein names'",
     "output_type": "error",
     "traceback": [
      "\u001b[1;31m---------------------------------------------------------------------------\u001b[0m",
      "\u001b[1;31mKeyError\u001b[0m                                  Traceback (most recent call last)",
      "\u001b[1;32m~\\AppData\\Local\\Programs\\Python\\Python38\\lib\\site-packages\\pandas\\core\\indexes\\base.py\u001b[0m in \u001b[0;36mget_loc\u001b[1;34m(self, key, method, tolerance)\u001b[0m\n\u001b[0;32m   3360\u001b[0m             \u001b[1;32mtry\u001b[0m\u001b[1;33m:\u001b[0m\u001b[1;33m\u001b[0m\u001b[1;33m\u001b[0m\u001b[0m\n\u001b[1;32m-> 3361\u001b[1;33m                 \u001b[1;32mreturn\u001b[0m \u001b[0mself\u001b[0m\u001b[1;33m.\u001b[0m\u001b[0m_engine\u001b[0m\u001b[1;33m.\u001b[0m\u001b[0mget_loc\u001b[0m\u001b[1;33m(\u001b[0m\u001b[0mcasted_key\u001b[0m\u001b[1;33m)\u001b[0m\u001b[1;33m\u001b[0m\u001b[1;33m\u001b[0m\u001b[0m\n\u001b[0m\u001b[0;32m   3362\u001b[0m             \u001b[1;32mexcept\u001b[0m \u001b[0mKeyError\u001b[0m \u001b[1;32mas\u001b[0m \u001b[0merr\u001b[0m\u001b[1;33m:\u001b[0m\u001b[1;33m\u001b[0m\u001b[1;33m\u001b[0m\u001b[0m\n",
      "\u001b[1;32m~\\AppData\\Local\\Programs\\Python\\Python38\\lib\\site-packages\\pandas\\_libs\\index.pyx\u001b[0m in \u001b[0;36mpandas._libs.index.IndexEngine.get_loc\u001b[1;34m()\u001b[0m\n",
      "\u001b[1;32m~\\AppData\\Local\\Programs\\Python\\Python38\\lib\\site-packages\\pandas\\_libs\\index.pyx\u001b[0m in \u001b[0;36mpandas._libs.index.IndexEngine.get_loc\u001b[1;34m()\u001b[0m\n",
      "\u001b[1;32mpandas\\_libs\\hashtable_class_helper.pxi\u001b[0m in \u001b[0;36mpandas._libs.hashtable.PyObjectHashTable.get_item\u001b[1;34m()\u001b[0m\n",
      "\u001b[1;32mpandas\\_libs\\hashtable_class_helper.pxi\u001b[0m in \u001b[0;36mpandas._libs.hashtable.PyObjectHashTable.get_item\u001b[1;34m()\u001b[0m\n",
      "\u001b[1;31mKeyError\u001b[0m: 'Protein names'",
      "\nThe above exception was the direct cause of the following exception:\n",
      "\u001b[1;31mKeyError\u001b[0m                                  Traceback (most recent call last)",
      "\u001b[1;32m<ipython-input-5-760b06475695>\u001b[0m in \u001b[0;36m<module>\u001b[1;34m\u001b[0m\n\u001b[0;32m      9\u001b[0m \u001b[1;31m# Creates a new dataframe except for records with 'Deleted.' in the\u001b[0m\u001b[1;33m\u001b[0m\u001b[1;33m\u001b[0m\u001b[1;33m\u001b[0m\u001b[0m\n\u001b[0;32m     10\u001b[0m \u001b[1;31m# column 'Protein names'\u001b[0m\u001b[1;33m\u001b[0m\u001b[1;33m\u001b[0m\u001b[1;33m\u001b[0m\u001b[0m\n\u001b[1;32m---> 11\u001b[1;33m \u001b[0mindex_df2\u001b[0m \u001b[1;33m=\u001b[0m \u001b[0mindex_df\u001b[0m\u001b[1;33m[\u001b[0m\u001b[0mindex_df\u001b[0m\u001b[1;33m[\u001b[0m\u001b[1;34m'Protein names'\u001b[0m\u001b[1;33m]\u001b[0m\u001b[1;33m!=\u001b[0m \u001b[1;34m'Deleted.'\u001b[0m\u001b[1;33m]\u001b[0m\u001b[1;33m\u001b[0m\u001b[1;33m\u001b[0m\u001b[0m\n\u001b[0m\u001b[0;32m     12\u001b[0m \u001b[1;33m\u001b[0m\u001b[0m\n\u001b[0;32m     13\u001b[0m \u001b[1;31m# Variable with the name of the outputted fasta file\u001b[0m\u001b[1;33m\u001b[0m\u001b[1;33m\u001b[0m\u001b[1;33m\u001b[0m\u001b[0m\n",
      "\u001b[1;32m~\\AppData\\Local\\Programs\\Python\\Python38\\lib\\site-packages\\pandas\\core\\frame.py\u001b[0m in \u001b[0;36m__getitem__\u001b[1;34m(self, key)\u001b[0m\n\u001b[0;32m   3456\u001b[0m             \u001b[1;32mif\u001b[0m \u001b[0mself\u001b[0m\u001b[1;33m.\u001b[0m\u001b[0mcolumns\u001b[0m\u001b[1;33m.\u001b[0m\u001b[0mnlevels\u001b[0m \u001b[1;33m>\u001b[0m \u001b[1;36m1\u001b[0m\u001b[1;33m:\u001b[0m\u001b[1;33m\u001b[0m\u001b[1;33m\u001b[0m\u001b[0m\n\u001b[0;32m   3457\u001b[0m                 \u001b[1;32mreturn\u001b[0m \u001b[0mself\u001b[0m\u001b[1;33m.\u001b[0m\u001b[0m_getitem_multilevel\u001b[0m\u001b[1;33m(\u001b[0m\u001b[0mkey\u001b[0m\u001b[1;33m)\u001b[0m\u001b[1;33m\u001b[0m\u001b[1;33m\u001b[0m\u001b[0m\n\u001b[1;32m-> 3458\u001b[1;33m             \u001b[0mindexer\u001b[0m \u001b[1;33m=\u001b[0m \u001b[0mself\u001b[0m\u001b[1;33m.\u001b[0m\u001b[0mcolumns\u001b[0m\u001b[1;33m.\u001b[0m\u001b[0mget_loc\u001b[0m\u001b[1;33m(\u001b[0m\u001b[0mkey\u001b[0m\u001b[1;33m)\u001b[0m\u001b[1;33m\u001b[0m\u001b[1;33m\u001b[0m\u001b[0m\n\u001b[0m\u001b[0;32m   3459\u001b[0m             \u001b[1;32mif\u001b[0m \u001b[0mis_integer\u001b[0m\u001b[1;33m(\u001b[0m\u001b[0mindexer\u001b[0m\u001b[1;33m)\u001b[0m\u001b[1;33m:\u001b[0m\u001b[1;33m\u001b[0m\u001b[1;33m\u001b[0m\u001b[0m\n\u001b[0;32m   3460\u001b[0m                 \u001b[0mindexer\u001b[0m \u001b[1;33m=\u001b[0m \u001b[1;33m[\u001b[0m\u001b[0mindexer\u001b[0m\u001b[1;33m]\u001b[0m\u001b[1;33m\u001b[0m\u001b[1;33m\u001b[0m\u001b[0m\n",
      "\u001b[1;32m~\\AppData\\Local\\Programs\\Python\\Python38\\lib\\site-packages\\pandas\\core\\indexes\\base.py\u001b[0m in \u001b[0;36mget_loc\u001b[1;34m(self, key, method, tolerance)\u001b[0m\n\u001b[0;32m   3361\u001b[0m                 \u001b[1;32mreturn\u001b[0m \u001b[0mself\u001b[0m\u001b[1;33m.\u001b[0m\u001b[0m_engine\u001b[0m\u001b[1;33m.\u001b[0m\u001b[0mget_loc\u001b[0m\u001b[1;33m(\u001b[0m\u001b[0mcasted_key\u001b[0m\u001b[1;33m)\u001b[0m\u001b[1;33m\u001b[0m\u001b[1;33m\u001b[0m\u001b[0m\n\u001b[0;32m   3362\u001b[0m             \u001b[1;32mexcept\u001b[0m \u001b[0mKeyError\u001b[0m \u001b[1;32mas\u001b[0m \u001b[0merr\u001b[0m\u001b[1;33m:\u001b[0m\u001b[1;33m\u001b[0m\u001b[1;33m\u001b[0m\u001b[0m\n\u001b[1;32m-> 3363\u001b[1;33m                 \u001b[1;32mraise\u001b[0m \u001b[0mKeyError\u001b[0m\u001b[1;33m(\u001b[0m\u001b[0mkey\u001b[0m\u001b[1;33m)\u001b[0m \u001b[1;32mfrom\u001b[0m \u001b[0merr\u001b[0m\u001b[1;33m\u001b[0m\u001b[1;33m\u001b[0m\u001b[0m\n\u001b[0m\u001b[0;32m   3364\u001b[0m \u001b[1;33m\u001b[0m\u001b[0m\n\u001b[0;32m   3365\u001b[0m         \u001b[1;32mif\u001b[0m \u001b[0mis_scalar\u001b[0m\u001b[1;33m(\u001b[0m\u001b[0mkey\u001b[0m\u001b[1;33m)\u001b[0m \u001b[1;32mand\u001b[0m \u001b[0misna\u001b[0m\u001b[1;33m(\u001b[0m\u001b[0mkey\u001b[0m\u001b[1;33m)\u001b[0m \u001b[1;32mand\u001b[0m \u001b[1;32mnot\u001b[0m \u001b[0mself\u001b[0m\u001b[1;33m.\u001b[0m\u001b[0mhasnans\u001b[0m\u001b[1;33m:\u001b[0m\u001b[1;33m\u001b[0m\u001b[1;33m\u001b[0m\u001b[0m\n",
      "\u001b[1;31mKeyError\u001b[0m: 'Protein names'"
     ]
    }
   ],
   "source": [
    "# This code is not appropriate for a seqperate function and will likely \n",
    "# need to be edited on a case-by-case basis. It takes the master index \n",
    "# and filters by row value on a column then generates a new fasta file.\n",
    "# In this case a number of the proteins are listed as 'Deleted.' and \n",
    "# I have removed them from the dataset with this codes. \n",
    "\n",
    "# Uses pandas to generate a dataframe (df)\n",
    "index_df = pd.read_csv(f'{PROJECT}/output/{date}_PFAM_master_index.csv')\n",
    "# Creates a new dataframe except for records with 'Deleted.' in the\n",
    "# column 'Protein names'\n",
    "index_df2 = index_df[index_df['Protein names']!= 'Deleted.']\n",
    "\n",
    "# Variable with the name of the outputted fasta file\n",
    "output_file = f'{PROJECT}/output/{date}_index_filt.csv'\n",
    "\n",
    "# Writes to file \n",
    "index_df2.to_csv(output_file, sep=\",\", index=False)\n",
    "\n",
    "# Assigns the length of fasta_dict to seq_num\n",
    "seq_num = len(index_df2)\n",
    "\n",
    "# Prints and logs summary \n",
    "print(f\"Number of sequences in '{output_file}': {seq_num}\")\n",
    "log(f\"{output_file} created with {seq_num} sequences filtered by column \\\n",
    "    'Protein names' != 'Deleted.'\")"
   ]
  },
  {
   "cell_type": "code",
   "execution_count": 9,
   "metadata": {},
   "outputs": [
    {
     "name": "stdout",
     "output_type": "stream",
     "text": [
      "There are 1 reviewed sequences in the dataset\n",
      "There are 26661 unreviewed sequences in the dataset\n",
      "1 sequences were written to output/211119_KRAB_reviewed.fasta\n",
      "26661 sequences were written to output/211119_KRAB_unreviewed.fasta\n"
     ]
    }
   ],
   "source": [
    "# We need to filter out the duplicate sequences, however if one of the\n",
    "# copies has Status 'reviewed' we need to keep that copy not the \n",
    "# unreviewed one. To do this we need to split the dataset into\n",
    "# reivewed and unreviewed sequences, remove duplicates from within\n",
    "# those subsets before remove duplicates between the subsets\n",
    "index_file = 'output/211119_KRAB_index_filt.csv'\n",
    "\n",
    "reviewed(index_file, 'KRAB')"
   ]
  },
  {
   "cell_type": "code",
   "execution_count": 10,
   "metadata": {},
   "outputs": [
    {
     "name": "stdout",
     "output_type": "stream",
     "text": [
      "1 were kept, output was written to 211119_KRAB_PFAM_reviewed_cleaned.fasta. 0 sequences were dropped and written to output/211119_KRAB_PFAM_reviewed_cleaner_dropped_seq.fasta\n",
      "There were 0 instances of duplicate or ambiguous sequences.\n",
      "output/211119_KRAB_PFAM_reviewed_cleaned.fasta\n",
      "\n",
      "11572 were kept, output was written to 211119_KRAB_PFAM_unreviewed_cleaned.fasta. 3809 sequences were dropped and written to output/211119_KRAB_PFAM_unreviewed_cleaner_dropped_seq.fasta\n",
      "There were 14488 instances of duplicate or ambiguous sequences.\n",
      "output/211119_KRAB_PFAM_unreviewed_cleaned.fasta\n"
     ]
    }
   ],
   "source": [
    "# Takes the fasta files generated above and passes them seperately to the\n",
    "# sequence_cleaner function, with datasource and project name as arguments. \n",
    "# Removes duplicate sequences, and sequences with ambigious residues. \n",
    "# There maybe duplications between the two files however \n",
    "\n",
    "cleaner(f'output/{DATE}_{PROJECT}_reviewed.fasta', 'PFAM_reviewed', PROJECT)\n",
    "\n",
    "print('') # Just makes the output easier to read\n",
    "\n",
    "cleaner(f'output/{DATE}_{PROJECT}_unreviewed.fasta', 'PFAM_unreviewed', PROJECT)"
   ]
  },
  {
   "cell_type": "code",
   "execution_count": 11,
   "metadata": {},
   "outputs": [
    {
     "name": "stdout",
     "output_type": "stream",
     "text": [
      "11573 sequences were kept, output was written to 211119_KRAB_PFAM_rev_unrev_deduped.fasta. 0 sequences were dropped and written to output/test_joint_cleaned_cleaner_dropped_seq.fasta\n",
      "\n",
      "output/211119_KRAB_PFAM_rev_unrev_deduped.fasta\n"
     ]
    }
   ],
   "source": [
    "reviewed_file = f'output/{date}_{PROJECT}_PFAM_reviewed_cleaned.fasta'\n",
    "unreviewed_file = f'output/{date}_{PROJECT}_PFAM_unreviewed_cleaned.fasta'\n",
    "\n",
    "reviewed_unreviewed(reviewed_file, unreviewed_file, 'PFAM', PROJECT)"
   ]
  },
  {
   "cell_type": "markdown",
   "metadata": {},
   "source": [
    "Make sure the seed sequence is still in the dataset, otherwise add it in either manually or using code. If added in make sure that is clear in the annotation.\n",
    "\n",
    "We only add it back in in order to help ensure that we isolate the correct clusted later on when we visulise the SSN"
   ]
  },
  {
   "cell_type": "markdown",
   "metadata": {},
   "source": [
    "# Generate Network file using blast"
   ]
  },
  {
   "cell_type": "code",
   "execution_count": 12,
   "metadata": {},
   "outputs": [
    {
     "name": "stdout",
     "output_type": "stream",
     "text": [
      "Run time: 0:04:51 hh:mm:ss\n",
      "Network file output/BLAST/211119_KRAB_dataset_network_10e-10.csv generated\n"
     ]
    }
   ],
   "source": [
    "# Run a all v all BLAST search using a blast function \n",
    "# BLAST must be installed locally.\n",
    "# Takes 3 arguments, a fasta file, and the project name.\n",
    "\n",
    "# Just a clear way of laying out the function arguments\n",
    "\n",
    "in_fasta = 'output/211119_KRAB_PFAM_rev_unrev_deduped.fasta' # Use the last outputted \n",
    "                                                        # fasta file from above\n",
    "# path = '/usr/lib/ncbi-blast-2.12.0+/bin'\n",
    "\n",
    "# Actual BLAST function, using default E_value_threshold=\"10e-10\", cpus=\"2\" (adjust \n",
    "# these arguments as required)\n",
    "\n",
    "blast(in_fasta, PROJECT, '10e-10', cpus='30')"
   ]
  },
  {
   "cell_type": "markdown",
   "metadata": {},
   "source": [
    "# Merge the network file with the taxonomic data"
   ]
  },
  {
   "cell_type": "code",
   "execution_count": 13,
   "metadata": {},
   "outputs": [],
   "source": [
    "# Set input and output files as variables \n",
    "input_network = 'output/BLAST/211119_KRAB_dataset_network_10e-10.csv'\n",
    "input_index = 'output/211119_KRAB_index_filt.csv'\n",
    "output_network = 'output/BLAST/211119_KRAB_SSN_10e-10.csv'\n",
    "\n",
    "# Read the input files\n",
    "netwrk = pd.read_csv(input_network)\n",
    "master_index = pd.read_csv(input_index)\n",
    "\n",
    "# Make a new dataframe for the input_files with a subset of columns, then rename\n",
    "# the first column of the input_network dataframe so that it can be easily merged \n",
    "# with the index file\n",
    "nw_mod = netwrk[['Query', 'Target', '% Identity', 'Length', 'E-value', 'Bit-score']]\n",
    "nw_mod.columns = ['Entry', 'Target', '% Identity', 'Length', 'E-value', 'Bit-score']\n",
    "\n",
    "index = master_index[['Entry', 'Status', 'Protein names', 'Gene names', 'Organism']]"
   ]
  },
  {
   "cell_type": "code",
   "execution_count": 14,
   "metadata": {},
   "outputs": [
    {
     "data": {
      "text/html": [
       "<div>\n",
       "<style scoped>\n",
       "    .dataframe tbody tr th:only-of-type {\n",
       "        vertical-align: middle;\n",
       "    }\n",
       "\n",
       "    .dataframe tbody tr th {\n",
       "        vertical-align: top;\n",
       "    }\n",
       "\n",
       "    .dataframe thead th {\n",
       "        text-align: right;\n",
       "    }\n",
       "</style>\n",
       "<table border=\"1\" class=\"dataframe\">\n",
       "  <thead>\n",
       "    <tr style=\"text-align: right;\">\n",
       "      <th></th>\n",
       "      <th>Entry</th>\n",
       "      <th>Target</th>\n",
       "      <th>% Identity</th>\n",
       "      <th>Length</th>\n",
       "      <th>E-value</th>\n",
       "      <th>Bit-score</th>\n",
       "    </tr>\n",
       "  </thead>\n",
       "  <tbody>\n",
       "    <tr>\n",
       "      <th>0</th>\n",
       "      <td>Q8CF60</td>\n",
       "      <td>Q8CF60</td>\n",
       "      <td>100.000</td>\n",
       "      <td>40</td>\n",
       "      <td>7.280000e-26</td>\n",
       "      <td>84.3</td>\n",
       "    </tr>\n",
       "    <tr>\n",
       "      <th>1</th>\n",
       "      <td>Q8CF60</td>\n",
       "      <td>A0A1A6HXD6</td>\n",
       "      <td>87.500</td>\n",
       "      <td>40</td>\n",
       "      <td>1.080000e-21</td>\n",
       "      <td>73.6</td>\n",
       "    </tr>\n",
       "    <tr>\n",
       "      <th>2</th>\n",
       "      <td>Q8CF60</td>\n",
       "      <td>D3ZQ68</td>\n",
       "      <td>90.000</td>\n",
       "      <td>40</td>\n",
       "      <td>6.280000e-21</td>\n",
       "      <td>71.6</td>\n",
       "    </tr>\n",
       "    <tr>\n",
       "      <th>3</th>\n",
       "      <td>Q8CF60</td>\n",
       "      <td>G3I038</td>\n",
       "      <td>84.615</td>\n",
       "      <td>39</td>\n",
       "      <td>9.510000e-21</td>\n",
       "      <td>71.2</td>\n",
       "    </tr>\n",
       "    <tr>\n",
       "      <th>4</th>\n",
       "      <td>Q8CF60</td>\n",
       "      <td>F6YG67</td>\n",
       "      <td>82.500</td>\n",
       "      <td>40</td>\n",
       "      <td>2.330000e-19</td>\n",
       "      <td>67.8</td>\n",
       "    </tr>\n",
       "  </tbody>\n",
       "</table>\n",
       "</div>"
      ],
      "text/plain": [
       "    Entry      Target  % Identity  Length       E-value  Bit-score\n",
       "0  Q8CF60      Q8CF60     100.000      40  7.280000e-26       84.3\n",
       "1  Q8CF60  A0A1A6HXD6      87.500      40  1.080000e-21       73.6\n",
       "2  Q8CF60      D3ZQ68      90.000      40  6.280000e-21       71.6\n",
       "3  Q8CF60      G3I038      84.615      39  9.510000e-21       71.2\n",
       "4  Q8CF60      F6YG67      82.500      40  2.330000e-19       67.8"
      ]
     },
     "execution_count": 14,
     "metadata": {},
     "output_type": "execute_result"
    }
   ],
   "source": [
    "# Check the dataframe\n",
    "nw_mod.head()"
   ]
  },
  {
   "cell_type": "code",
   "execution_count": 15,
   "metadata": {},
   "outputs": [
    {
     "data": {
      "text/html": [
       "<div>\n",
       "<style scoped>\n",
       "    .dataframe tbody tr th:only-of-type {\n",
       "        vertical-align: middle;\n",
       "    }\n",
       "\n",
       "    .dataframe tbody tr th {\n",
       "        vertical-align: top;\n",
       "    }\n",
       "\n",
       "    .dataframe thead th {\n",
       "        text-align: right;\n",
       "    }\n",
       "</style>\n",
       "<table border=\"1\" class=\"dataframe\">\n",
       "  <thead>\n",
       "    <tr style=\"text-align: right;\">\n",
       "      <th></th>\n",
       "      <th>Entry</th>\n",
       "      <th>Status</th>\n",
       "      <th>Protein names</th>\n",
       "      <th>Gene names</th>\n",
       "      <th>Organism</th>\n",
       "    </tr>\n",
       "  </thead>\n",
       "  <tbody>\n",
       "    <tr>\n",
       "      <th>0</th>\n",
       "      <td>A0A2K6SFI0</td>\n",
       "      <td>unreviewed</td>\n",
       "      <td>Zinc finger protein 182</td>\n",
       "      <td>ZNF182</td>\n",
       "      <td>Saimiri boliviensis boliviensis (Bolivian squi...</td>\n",
       "    </tr>\n",
       "    <tr>\n",
       "      <th>1</th>\n",
       "      <td>A0A2K6Q1Z0</td>\n",
       "      <td>unreviewed</td>\n",
       "      <td>Uncharacterized protein</td>\n",
       "      <td>ZNF721</td>\n",
       "      <td>Rhinopithecus roxellana (Golden snub-nosed mon...</td>\n",
       "    </tr>\n",
       "    <tr>\n",
       "      <th>2</th>\n",
       "      <td>A0A2U3V9T7</td>\n",
       "      <td>unreviewed</td>\n",
       "      <td>zinc finger protein 699 isoform X1</td>\n",
       "      <td>LOC101333634</td>\n",
       "      <td>Tursiops truncatus (Atlantic bottle-nosed dolp...</td>\n",
       "    </tr>\n",
       "    <tr>\n",
       "      <th>3</th>\n",
       "      <td>A0A452C367</td>\n",
       "      <td>unreviewed</td>\n",
       "      <td>zinc finger protein 852 isoform X2</td>\n",
       "      <td>ZNF852</td>\n",
       "      <td>Balaenoptera acutorostrata scammoni (North Pac...</td>\n",
       "    </tr>\n",
       "    <tr>\n",
       "      <th>4</th>\n",
       "      <td>A0A4W2CM52</td>\n",
       "      <td>unreviewed</td>\n",
       "      <td>Zinc finger protein 214</td>\n",
       "      <td>ZNF214</td>\n",
       "      <td>Bos indicus x Bos taurus (Hybrid cattle)</td>\n",
       "    </tr>\n",
       "  </tbody>\n",
       "</table>\n",
       "</div>"
      ],
      "text/plain": [
       "        Entry      Status                       Protein names    Gene names  \\\n",
       "0  A0A2K6SFI0  unreviewed             Zinc finger protein 182        ZNF182   \n",
       "1  A0A2K6Q1Z0  unreviewed             Uncharacterized protein        ZNF721   \n",
       "2  A0A2U3V9T7  unreviewed  zinc finger protein 699 isoform X1  LOC101333634   \n",
       "3  A0A452C367  unreviewed  zinc finger protein 852 isoform X2        ZNF852   \n",
       "4  A0A4W2CM52  unreviewed             Zinc finger protein 214        ZNF214   \n",
       "\n",
       "                                            Organism  \n",
       "0  Saimiri boliviensis boliviensis (Bolivian squi...  \n",
       "1  Rhinopithecus roxellana (Golden snub-nosed mon...  \n",
       "2  Tursiops truncatus (Atlantic bottle-nosed dolp...  \n",
       "3  Balaenoptera acutorostrata scammoni (North Pac...  \n",
       "4           Bos indicus x Bos taurus (Hybrid cattle)  "
      ]
     },
     "execution_count": 15,
     "metadata": {},
     "output_type": "execute_result"
    }
   ],
   "source": [
    "# Check the dataframe\n",
    "index.head()"
   ]
  },
  {
   "cell_type": "code",
   "execution_count": 16,
   "metadata": {},
   "outputs": [],
   "source": [
    "# Merge the dataframes on the Entry column. This will add the \n",
    "# taxonomic information to the network file\n",
    "merged = nw_mod.merge(index, on='Entry', how='left')"
   ]
  },
  {
   "cell_type": "code",
   "execution_count": 17,
   "metadata": {},
   "outputs": [
    {
     "data": {
      "text/html": [
       "<div>\n",
       "<style scoped>\n",
       "    .dataframe tbody tr th:only-of-type {\n",
       "        vertical-align: middle;\n",
       "    }\n",
       "\n",
       "    .dataframe tbody tr th {\n",
       "        vertical-align: top;\n",
       "    }\n",
       "\n",
       "    .dataframe thead th {\n",
       "        text-align: right;\n",
       "    }\n",
       "</style>\n",
       "<table border=\"1\" class=\"dataframe\">\n",
       "  <thead>\n",
       "    <tr style=\"text-align: right;\">\n",
       "      <th></th>\n",
       "      <th>Entry</th>\n",
       "      <th>Target</th>\n",
       "      <th>% Identity</th>\n",
       "      <th>Length</th>\n",
       "      <th>E-value</th>\n",
       "      <th>Bit-score</th>\n",
       "      <th>Status</th>\n",
       "      <th>Protein names</th>\n",
       "      <th>Gene names</th>\n",
       "      <th>Organism</th>\n",
       "    </tr>\n",
       "  </thead>\n",
       "  <tbody>\n",
       "    <tr>\n",
       "      <th>0</th>\n",
       "      <td>Q8CF60</td>\n",
       "      <td>Q8CF60</td>\n",
       "      <td>100.000</td>\n",
       "      <td>40</td>\n",
       "      <td>7.280000e-26</td>\n",
       "      <td>84.3</td>\n",
       "      <td>reviewed</td>\n",
       "      <td>Zinc finger protein 263 (Zinc finger protein F...</td>\n",
       "      <td>Znf263 FPM315 Zfp263 ZKSCAN12</td>\n",
       "      <td>Mus musculus (Mouse)</td>\n",
       "    </tr>\n",
       "    <tr>\n",
       "      <th>1</th>\n",
       "      <td>Q8CF60</td>\n",
       "      <td>A0A1A6HXD6</td>\n",
       "      <td>87.500</td>\n",
       "      <td>40</td>\n",
       "      <td>1.080000e-21</td>\n",
       "      <td>73.6</td>\n",
       "      <td>reviewed</td>\n",
       "      <td>Zinc finger protein 263 (Zinc finger protein F...</td>\n",
       "      <td>Znf263 FPM315 Zfp263 ZKSCAN12</td>\n",
       "      <td>Mus musculus (Mouse)</td>\n",
       "    </tr>\n",
       "    <tr>\n",
       "      <th>2</th>\n",
       "      <td>Q8CF60</td>\n",
       "      <td>D3ZQ68</td>\n",
       "      <td>90.000</td>\n",
       "      <td>40</td>\n",
       "      <td>6.280000e-21</td>\n",
       "      <td>71.6</td>\n",
       "      <td>reviewed</td>\n",
       "      <td>Zinc finger protein 263 (Zinc finger protein F...</td>\n",
       "      <td>Znf263 FPM315 Zfp263 ZKSCAN12</td>\n",
       "      <td>Mus musculus (Mouse)</td>\n",
       "    </tr>\n",
       "    <tr>\n",
       "      <th>3</th>\n",
       "      <td>Q8CF60</td>\n",
       "      <td>G3I038</td>\n",
       "      <td>84.615</td>\n",
       "      <td>39</td>\n",
       "      <td>9.510000e-21</td>\n",
       "      <td>71.2</td>\n",
       "      <td>reviewed</td>\n",
       "      <td>Zinc finger protein 263 (Zinc finger protein F...</td>\n",
       "      <td>Znf263 FPM315 Zfp263 ZKSCAN12</td>\n",
       "      <td>Mus musculus (Mouse)</td>\n",
       "    </tr>\n",
       "    <tr>\n",
       "      <th>4</th>\n",
       "      <td>Q8CF60</td>\n",
       "      <td>F6YG67</td>\n",
       "      <td>82.500</td>\n",
       "      <td>40</td>\n",
       "      <td>2.330000e-19</td>\n",
       "      <td>67.8</td>\n",
       "      <td>reviewed</td>\n",
       "      <td>Zinc finger protein 263 (Zinc finger protein F...</td>\n",
       "      <td>Znf263 FPM315 Zfp263 ZKSCAN12</td>\n",
       "      <td>Mus musculus (Mouse)</td>\n",
       "    </tr>\n",
       "    <tr>\n",
       "      <th>...</th>\n",
       "      <td>...</td>\n",
       "      <td>...</td>\n",
       "      <td>...</td>\n",
       "      <td>...</td>\n",
       "      <td>...</td>\n",
       "      <td>...</td>\n",
       "      <td>...</td>\n",
       "      <td>...</td>\n",
       "      <td>...</td>\n",
       "      <td>...</td>\n",
       "    </tr>\n",
       "    <tr>\n",
       "      <th>5803769</th>\n",
       "      <td>H0XF31</td>\n",
       "      <td>G3VJ09</td>\n",
       "      <td>54.762</td>\n",
       "      <td>42</td>\n",
       "      <td>5.820000e-13</td>\n",
       "      <td>51.6</td>\n",
       "      <td>unreviewed</td>\n",
       "      <td>Zinc finger with KRAB and SCAN domains 1</td>\n",
       "      <td>ZKSCAN1</td>\n",
       "      <td>Otolemur garnettii (Small-eared galago) (Garne...</td>\n",
       "    </tr>\n",
       "    <tr>\n",
       "      <th>5803770</th>\n",
       "      <td>H0XF31</td>\n",
       "      <td>A0A2Y9RP57</td>\n",
       "      <td>48.649</td>\n",
       "      <td>37</td>\n",
       "      <td>2.280000e-10</td>\n",
       "      <td>45.1</td>\n",
       "      <td>unreviewed</td>\n",
       "      <td>Zinc finger with KRAB and SCAN domains 1</td>\n",
       "      <td>ZKSCAN1</td>\n",
       "      <td>Otolemur garnettii (Small-eared galago) (Garne...</td>\n",
       "    </tr>\n",
       "    <tr>\n",
       "      <th>5803771</th>\n",
       "      <td>H0XF31</td>\n",
       "      <td>A0A212CY96</td>\n",
       "      <td>50.000</td>\n",
       "      <td>44</td>\n",
       "      <td>3.540000e-10</td>\n",
       "      <td>44.7</td>\n",
       "      <td>unreviewed</td>\n",
       "      <td>Zinc finger with KRAB and SCAN domains 1</td>\n",
       "      <td>ZKSCAN1</td>\n",
       "      <td>Otolemur garnettii (Small-eared galago) (Garne...</td>\n",
       "    </tr>\n",
       "    <tr>\n",
       "      <th>5803772</th>\n",
       "      <td>H0XF31</td>\n",
       "      <td>A0A673UBJ6</td>\n",
       "      <td>50.000</td>\n",
       "      <td>42</td>\n",
       "      <td>5.970000e-10</td>\n",
       "      <td>44.3</td>\n",
       "      <td>unreviewed</td>\n",
       "      <td>Zinc finger with KRAB and SCAN domains 1</td>\n",
       "      <td>ZKSCAN1</td>\n",
       "      <td>Otolemur garnettii (Small-eared galago) (Garne...</td>\n",
       "    </tr>\n",
       "    <tr>\n",
       "      <th>5803773</th>\n",
       "      <td>H0XF31</td>\n",
       "      <td>A0A286XF23</td>\n",
       "      <td>50.000</td>\n",
       "      <td>42</td>\n",
       "      <td>6.590000e-10</td>\n",
       "      <td>43.9</td>\n",
       "      <td>unreviewed</td>\n",
       "      <td>Zinc finger with KRAB and SCAN domains 1</td>\n",
       "      <td>ZKSCAN1</td>\n",
       "      <td>Otolemur garnettii (Small-eared galago) (Garne...</td>\n",
       "    </tr>\n",
       "  </tbody>\n",
       "</table>\n",
       "<p>5803774 rows × 10 columns</p>\n",
       "</div>"
      ],
      "text/plain": [
       "          Entry      Target  % Identity  Length       E-value  Bit-score  \\\n",
       "0        Q8CF60      Q8CF60     100.000      40  7.280000e-26       84.3   \n",
       "1        Q8CF60  A0A1A6HXD6      87.500      40  1.080000e-21       73.6   \n",
       "2        Q8CF60      D3ZQ68      90.000      40  6.280000e-21       71.6   \n",
       "3        Q8CF60      G3I038      84.615      39  9.510000e-21       71.2   \n",
       "4        Q8CF60      F6YG67      82.500      40  2.330000e-19       67.8   \n",
       "...         ...         ...         ...     ...           ...        ...   \n",
       "5803769  H0XF31      G3VJ09      54.762      42  5.820000e-13       51.6   \n",
       "5803770  H0XF31  A0A2Y9RP57      48.649      37  2.280000e-10       45.1   \n",
       "5803771  H0XF31  A0A212CY96      50.000      44  3.540000e-10       44.7   \n",
       "5803772  H0XF31  A0A673UBJ6      50.000      42  5.970000e-10       44.3   \n",
       "5803773  H0XF31  A0A286XF23      50.000      42  6.590000e-10       43.9   \n",
       "\n",
       "             Status                                      Protein names  \\\n",
       "0          reviewed  Zinc finger protein 263 (Zinc finger protein F...   \n",
       "1          reviewed  Zinc finger protein 263 (Zinc finger protein F...   \n",
       "2          reviewed  Zinc finger protein 263 (Zinc finger protein F...   \n",
       "3          reviewed  Zinc finger protein 263 (Zinc finger protein F...   \n",
       "4          reviewed  Zinc finger protein 263 (Zinc finger protein F...   \n",
       "...             ...                                                ...   \n",
       "5803769  unreviewed           Zinc finger with KRAB and SCAN domains 1   \n",
       "5803770  unreviewed           Zinc finger with KRAB and SCAN domains 1   \n",
       "5803771  unreviewed           Zinc finger with KRAB and SCAN domains 1   \n",
       "5803772  unreviewed           Zinc finger with KRAB and SCAN domains 1   \n",
       "5803773  unreviewed           Zinc finger with KRAB and SCAN domains 1   \n",
       "\n",
       "                            Gene names  \\\n",
       "0        Znf263 FPM315 Zfp263 ZKSCAN12   \n",
       "1        Znf263 FPM315 Zfp263 ZKSCAN12   \n",
       "2        Znf263 FPM315 Zfp263 ZKSCAN12   \n",
       "3        Znf263 FPM315 Zfp263 ZKSCAN12   \n",
       "4        Znf263 FPM315 Zfp263 ZKSCAN12   \n",
       "...                                ...   \n",
       "5803769                        ZKSCAN1   \n",
       "5803770                        ZKSCAN1   \n",
       "5803771                        ZKSCAN1   \n",
       "5803772                        ZKSCAN1   \n",
       "5803773                        ZKSCAN1   \n",
       "\n",
       "                                                  Organism  \n",
       "0                                     Mus musculus (Mouse)  \n",
       "1                                     Mus musculus (Mouse)  \n",
       "2                                     Mus musculus (Mouse)  \n",
       "3                                     Mus musculus (Mouse)  \n",
       "4                                     Mus musculus (Mouse)  \n",
       "...                                                    ...  \n",
       "5803769  Otolemur garnettii (Small-eared galago) (Garne...  \n",
       "5803770  Otolemur garnettii (Small-eared galago) (Garne...  \n",
       "5803771  Otolemur garnettii (Small-eared galago) (Garne...  \n",
       "5803772  Otolemur garnettii (Small-eared galago) (Garne...  \n",
       "5803773  Otolemur garnettii (Small-eared galago) (Garne...  \n",
       "\n",
       "[5803774 rows x 10 columns]"
      ]
     },
     "execution_count": 17,
     "metadata": {},
     "output_type": "execute_result"
    }
   ],
   "source": [
    "# Check the dataframe, didn't use .head() as need to see the \n",
    "# last rows.\n",
    "merged"
   ]
  },
  {
   "cell_type": "code",
   "execution_count": 18,
   "metadata": {},
   "outputs": [],
   "source": [
    "# Write the new network dataframe to file\n",
    "merged.to_csv(output_network, index=False)"
   ]
  },
  {
   "cell_type": "code",
   "execution_count": null,
   "metadata": {},
   "outputs": [],
   "source": []
  }
 ],
 "metadata": {
  "interpreter": {
   "hash": "626bbb74384245b4d158eff61d8a861d9ebdc0ed211d7e5a2090e25f0e40b3d0"
  },
  "kernelspec": {
   "display_name": "Python 3.8.2 64-bit",
   "name": "python3"
  },
  "language_info": {
   "codemirror_mode": {
    "name": "ipython",
    "version": 3
   },
   "file_extension": ".py",
   "mimetype": "text/x-python",
   "name": "python",
   "nbconvert_exporter": "python",
   "pygments_lexer": "ipython3",
   "version": "3.8.10"
  },
  "orig_nbformat": 4
 },
 "nbformat": 4,
 "nbformat_minor": 2
}
